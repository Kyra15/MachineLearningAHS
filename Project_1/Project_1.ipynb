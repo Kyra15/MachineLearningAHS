{
 "cells": [
  {
   "cell_type": "code",
   "execution_count": 2,
   "metadata": {
    "_cell_guid": "b1076dfc-b9ad-4769-8c92-a6c4dae69d19",
    "_uuid": "8f2839f25d086af736a60e9eeb907d3b93b6e0e5"
   },
   "outputs": [],
   "source": [
    "# This Python 3 environment comes with many helpful analytics libraries installed\n",
    "# It is defined by the kaggle/python Docker image: https://github.com/kaggle/docker-python\n",
    "# For example, here's several helpful packages to load\n",
    "\n",
    "\n",
    "# Input data files are available in the read-only \"../input/\" directory\n",
    "# For example, running this (by clicking run or pressing Shift+Enter) will list all files under the input directory\n",
    "\n",
    "import os\n",
    "\n",
    "for dirname, _, filenames in os.walk(\"./\"):\n",
    "    for filename in filenames:\n",
    "        print(os.path.join(dirname, filename))\n",
    "\n",
    "# You can write up to 20GB to the current directory (/kaggle/working/) that gets preserved as output when you create a version using \"Save & Run All\"\n",
    "# You can also write temporary files to /kaggle/temp/, but they won't be saved outside of the current session"
   ]
  },
  {
   "cell_type": "markdown",
   "metadata": {},
   "source": [
    "# 1. Frame the problem\n",
    "Using the customer description, Define the problem your trying to solve in your own words (remember this is not technial but must be specific so the customer understands the project"
   ]
  },
  {
   "cell_type": "markdown",
   "metadata": {},
   "source": [
    "Predict the probabilities of surviving the Titanic and determine the relationships between passenger attributes and survivability rate. "
   ]
  },
  {
   "cell_type": "markdown",
   "metadata": {},
   "source": [
    "# 2. Get the Data \n",
    "Define how you recieved the data (provided, gathered..)"
   ]
  },
  {
   "cell_type": "markdown",
   "metadata": {},
   "source": [
    "The data was provided to us via csv file."
   ]
  },
  {
   "cell_type": "markdown",
   "metadata": {},
   "source": [
    "# 3. Explore the Data\n",
    "Gain insights into the data you have from step 2, making sure to identify any bias"
   ]
  },
  {
   "cell_type": "code",
   "execution_count": 6,
   "metadata": {},
   "outputs": [],
   "source": [
    "# import necessary libraries\n",
    "import pandas as pd\n",
    "import numpy as np\n",
    "import matplotlib.pyplot as plt"
   ]
  },
  {
   "cell_type": "code",
   "execution_count": 8,
   "metadata": {},
   "outputs": [
    {
     "data": {
      "text/html": [
       "<div>\n",
       "<style scoped>\n",
       "    .dataframe tbody tr th:only-of-type {\n",
       "        vertical-align: middle;\n",
       "    }\n",
       "\n",
       "    .dataframe tbody tr th {\n",
       "        vertical-align: top;\n",
       "    }\n",
       "\n",
       "    .dataframe thead th {\n",
       "        text-align: right;\n",
       "    }\n",
       "</style>\n",
       "<table border=\"1\" class=\"dataframe\">\n",
       "  <thead>\n",
       "    <tr style=\"text-align: right;\">\n",
       "      <th></th>\n",
       "      <th>PassengerId</th>\n",
       "      <th>Survived</th>\n",
       "      <th>Pclass</th>\n",
       "      <th>Name</th>\n",
       "      <th>Sex</th>\n",
       "      <th>Age</th>\n",
       "      <th>SibSp</th>\n",
       "      <th>Parch</th>\n",
       "      <th>Ticket</th>\n",
       "      <th>Fare</th>\n",
       "      <th>Cabin</th>\n",
       "      <th>Embarked</th>\n",
       "    </tr>\n",
       "  </thead>\n",
       "  <tbody>\n",
       "    <tr>\n",
       "      <th>0</th>\n",
       "      <td>1</td>\n",
       "      <td>0</td>\n",
       "      <td>3</td>\n",
       "      <td>Braund, Mr. Owen Harris</td>\n",
       "      <td>male</td>\n",
       "      <td>22.0</td>\n",
       "      <td>1</td>\n",
       "      <td>0</td>\n",
       "      <td>A/5 21171</td>\n",
       "      <td>7.2500</td>\n",
       "      <td>NaN</td>\n",
       "      <td>S</td>\n",
       "    </tr>\n",
       "    <tr>\n",
       "      <th>1</th>\n",
       "      <td>2</td>\n",
       "      <td>1</td>\n",
       "      <td>1</td>\n",
       "      <td>Cumings, Mrs. John Bradley (Florence Briggs Th...</td>\n",
       "      <td>female</td>\n",
       "      <td>38.0</td>\n",
       "      <td>1</td>\n",
       "      <td>0</td>\n",
       "      <td>PC 17599</td>\n",
       "      <td>71.2833</td>\n",
       "      <td>C85</td>\n",
       "      <td>C</td>\n",
       "    </tr>\n",
       "    <tr>\n",
       "      <th>2</th>\n",
       "      <td>3</td>\n",
       "      <td>1</td>\n",
       "      <td>3</td>\n",
       "      <td>Heikkinen, Miss. Laina</td>\n",
       "      <td>female</td>\n",
       "      <td>26.0</td>\n",
       "      <td>0</td>\n",
       "      <td>0</td>\n",
       "      <td>STON/O2. 3101282</td>\n",
       "      <td>7.9250</td>\n",
       "      <td>NaN</td>\n",
       "      <td>S</td>\n",
       "    </tr>\n",
       "    <tr>\n",
       "      <th>3</th>\n",
       "      <td>4</td>\n",
       "      <td>1</td>\n",
       "      <td>1</td>\n",
       "      <td>Futrelle, Mrs. Jacques Heath (Lily May Peel)</td>\n",
       "      <td>female</td>\n",
       "      <td>35.0</td>\n",
       "      <td>1</td>\n",
       "      <td>0</td>\n",
       "      <td>113803</td>\n",
       "      <td>53.1000</td>\n",
       "      <td>C123</td>\n",
       "      <td>S</td>\n",
       "    </tr>\n",
       "    <tr>\n",
       "      <th>4</th>\n",
       "      <td>5</td>\n",
       "      <td>0</td>\n",
       "      <td>3</td>\n",
       "      <td>Allen, Mr. William Henry</td>\n",
       "      <td>male</td>\n",
       "      <td>35.0</td>\n",
       "      <td>0</td>\n",
       "      <td>0</td>\n",
       "      <td>373450</td>\n",
       "      <td>8.0500</td>\n",
       "      <td>NaN</td>\n",
       "      <td>S</td>\n",
       "    </tr>\n",
       "  </tbody>\n",
       "</table>\n",
       "</div>"
      ],
      "text/plain": [
       "   PassengerId  Survived  Pclass  \\\n",
       "0            1         0       3   \n",
       "1            2         1       1   \n",
       "2            3         1       3   \n",
       "3            4         1       1   \n",
       "4            5         0       3   \n",
       "\n",
       "                                                Name     Sex   Age  SibSp  \\\n",
       "0                            Braund, Mr. Owen Harris    male  22.0      1   \n",
       "1  Cumings, Mrs. John Bradley (Florence Briggs Th...  female  38.0      1   \n",
       "2                             Heikkinen, Miss. Laina  female  26.0      0   \n",
       "3       Futrelle, Mrs. Jacques Heath (Lily May Peel)  female  35.0      1   \n",
       "4                           Allen, Mr. William Henry    male  35.0      0   \n",
       "\n",
       "   Parch            Ticket     Fare Cabin Embarked  \n",
       "0      0         A/5 21171   7.2500   NaN        S  \n",
       "1      0          PC 17599  71.2833   C85        C  \n",
       "2      0  STON/O2. 3101282   7.9250   NaN        S  \n",
       "3      0            113803  53.1000  C123        S  \n",
       "4      0            373450   8.0500   NaN        S  "
      ]
     },
     "execution_count": 8,
     "metadata": {},
     "output_type": "execute_result"
    }
   ],
   "source": [
    "# read csv\n",
    "df = pd.read_csv(\"data/titanic.csv\")\n",
    "df.head()"
   ]
  },
  {
   "cell_type": "code",
   "execution_count": 18,
   "metadata": {},
   "outputs": [
    {
     "data": {
      "text/plain": [
       "PassengerId    False\n",
       "Survived       False\n",
       "Pclass         False\n",
       "Name           False\n",
       "Sex            False\n",
       "Age             True\n",
       "SibSp          False\n",
       "Parch          False\n",
       "Ticket         False\n",
       "Fare           False\n",
       "Cabin           True\n",
       "Embarked        True\n",
       "dtype: bool"
      ]
     },
     "execution_count": 18,
     "metadata": {},
     "output_type": "execute_result"
    }
   ],
   "source": [
    "df.isna().any()"
   ]
  },
  {
   "cell_type": "markdown",
   "metadata": {},
   "source": [
    "From this table, we can tell that the age, cabin, and embarked columns all have NaN values, so we'll have to clean up those, mostly likely by dropping the row altogether (mean imputation might cause biases due to gender)."
   ]
  },
  {
   "cell_type": "code",
   "execution_count": 19,
   "metadata": {},
   "outputs": [
    {
     "name": "stdout",
     "output_type": "stream",
     "text": [
      "Maximum age: 80.0\n",
      "Minimum age: 0.42\n",
      "DF of passengers whose ages are less than 1:\n",
      "      PassengerId  Survived  Pclass                             Name     Sex  \\\n",
      "78            79         1       2    Caldwell, Master. Alden Gates    male   \n",
      "305          306         1       1   Allison, Master. Hudson Trevor    male   \n",
      "469          470         1       3    Baclini, Miss. Helene Barbara  female   \n",
      "644          645         1       3           Baclini, Miss. Eugenie  female   \n",
      "755          756         1       2        Hamalainen, Master. Viljo    male   \n",
      "803          804         1       3  Thomas, Master. Assad Alexander    male   \n",
      "831          832         1       2  Richards, Master. George Sibley    male   \n",
      "\n",
      "      Age  SibSp  Parch  Ticket      Fare    Cabin Embarked  \n",
      "78   0.83      0      2  248738   29.0000      NaN        S  \n",
      "305  0.92      1      2  113781  151.5500  C22 C26        S  \n",
      "469  0.75      2      1    2666   19.2583      NaN        C  \n",
      "644  0.75      2      1    2666   19.2583      NaN        C  \n",
      "755  0.67      1      1  250649   14.5000      NaN        S  \n",
      "803  0.42      0      1    2625    8.5167      NaN        C  \n",
      "831  0.83      1      1   29106   18.7500      NaN        S  \n"
     ]
    }
   ],
   "source": [
    "print(f\"Maximum age: {max(df['Age'])}\")\n",
    "print(f\"Minimum age: {min(df['Age'])}\")\n",
    "print(f\"DF of passengers whose ages are less than 1:\\n {df[df['Age'] < 1]}\")"
   ]
  },
  {
   "cell_type": "markdown",
   "metadata": {},
   "source": [
    "The maximum age is 80, which is high and rare for this time, but not entirely out of the question since these passengers were mostly wealthy with easy access to medical help. The minimum age, on the other hand, is 0.42. This is a little weird since age isn't usually represented with decimals, however it might just be a baby who's not yet 1. Upon further analysis, it seems that many passengers had ages less than 1, with one paying a fare of 150 dollars. This now seems more like an error than actual fact."
   ]
  },
  {
   "cell_type": "markdown",
   "metadata": {},
   "source": [
    "From these current columns, I would think that a few wouldn't be helpful to our overall predictions. Ticket number, passengerid, sibsp (siblings/spouses onboard), parch (number of parents/children on board), embarked (port of embarkation), name, and cabin are the attributes I believe won't contribute as much towards out goal. Even if they make small differences (having an earlier ticket implies more wealth), I think they'll be neglible enough to exclude them for training purposes. \n",
    "\n",
    "label descriptions taken from: https://github.com/awesomedata/awesome-public-datasets/issues/351"
   ]
  },
  {
   "cell_type": "markdown",
   "metadata": {},
   "source": [
    "Additionally, there are a few columns that need to be one-hot-encoded, like sex (0 for female, 1 for male). The fare and age also needs to be normalized. "
   ]
  },
  {
   "cell_type": "code",
   "execution_count": 38,
   "metadata": {},
   "outputs": [
    {
     "data": {
      "image/png": "[encoded data removed]",
      "text/plain": [
       "<Figure size 640x480 with 1 Axes>"
      ]
     },
     "metadata": {},
     "output_type": "display_data"
    },
    {
     "name": "stdout",
     "output_type": "stream",
     "text": [
      "Women survival rate: 0.89272030651341\n",
      "Men survival rate: 0.24061810154525387\n"
     ]
    }
   ],
   "source": [
    "# graph age and survival rate\n",
    "women = df[df[\"Sex\"] == \"female\"][[\"Age\", \"Survived\"]].dropna()\n",
    "women = df[df[\"Sex\"] == \"male\"][[\"Age\", \"Survived\"]].dropna()\n",
    "\n",
    "plt.hist([women[\"Age\"], men[\"Age\"]], bins=10, color=[\"Red\", \"Blue\"], label=[\"Women\", \"Men\"])\n",
    "plt.title(\"Number of people on the Titanic vs. Age Separated by Gender\")\n",
    "plt.xlabel(\"Age\")\n",
    "plt.ylabel(\"Number of people\")\n",
    "plt.legend()\n",
    "plt.show()\n",
    "\n",
    "# get survival rates based on gender\n",
    "w_survival = np.sum(df[df[\"Sex\"] == \"female\"][\"Survived\"]) / len(women)\n",
    "print(f\"Women survival rate: {w_survival}\")\n",
    "\n",
    "m_survival = np.sum(df[df[\"Sex\"] == \"male\"][\"Survived\"]) / len(men)\n",
    "print(f\"Men survival rate: {m_survival}\")"
   ]
  },
  {
   "cell_type": "code",
   "execution_count": 62,
   "metadata": {},
   "outputs": [
    {
     "name": "stdout",
     "output_type": "stream",
     "text": [
      "Age\n",
      "0.0     0.761905\n",
      "10.0    0.444444\n",
      "20.0    0.759036\n",
      "30.0    0.775862\n",
      "40.0    0.764706\n",
      "50.0    0.850000\n",
      "60.0    0.900000\n",
      "Name: Survived, dtype: float64\n",
      "Age\n",
      "0.0     0.652174\n",
      "10.0    0.375000\n",
      "20.0    0.114286\n",
      "30.0    0.225000\n",
      "40.0    0.209877\n",
      "50.0    0.195122\n",
      "60.0    0.125000\n",
      "70.0    0.000000\n",
      "80.0    1.000000\n",
      "Name: Survived, dtype: float64\n"
     ]
    },
    {
     "data": {
      "image/png": "[encoded data removed]",
      "text/plain": [
       "<Figure size 640x480 with 1 Axes>"
      ]
     },
     "metadata": {},
     "output_type": "display_data"
    }
   ],
   "source": [
    "# graph a histogram of ages, with gender separation, but show survival rates for each bin\n",
    "\n",
    "# basically group the women into the bin categories, basically based on tens round(-1), then find the mean survivals of those\n",
    "\n",
    "# women = df[df[\"Sex\"] == \"female\"][[\"Age\", \"Survived\"]].dropna()\n",
    "women[\"Age\"] = round(women[\"Age\"], -1)\n",
    "\n",
    "grouped_women = women.groupby(women[\"Age\"])\n",
    "\n",
    "women_avgs = []\n",
    "women_avgs = grouped_women[\"Survived\"].mean()\n",
    "\n",
    "print(women_avgs)\n",
    "\n",
    "\n",
    "# men = df[df[\"Sex\"] == \"male\"][[\"Age\", \"Survived\"]].dropna()\n",
    "men[\"Age\"] = round(men[\"Age\"], -1)\n",
    "\n",
    "grouped_men = men.groupby(men[\"Age\"])\n",
    "\n",
    "men_avgs = []\n",
    "men_avgs = grouped_men[\"Survived\"].mean()\n",
    "\n",
    "print(men_avgs)\n",
    "\n",
    "survival_df =  pd.DataFrame({\"Women\": women_avgs, \"Men\": men_avgs})\n",
    "\n",
    "survival_df.plot(kind=\"bar\", width=0.8, color=[\"red\", \"blue\"])\n",
    "plt.ylabel(\"Survival Rate\")\n",
    "plt.title(\"Age vs. Survival Rate based on Gender\")\n",
    "plt.show()"
   ]
  },
  {
   "cell_type": "markdown",
   "metadata": {},
   "source": [
    "# 4.Prepare the Data\n",
    "\n",
    "\n",
    "Apply any data transformations and explain what and why\n"
   ]
  },
  {
   "cell_type": "code",
   "execution_count": null,
   "metadata": {},
   "outputs": [],
   "source": []
  },
  {
   "cell_type": "markdown",
   "metadata": {},
   "source": [
    "# 5. Model the data\n",
    "Using selected ML models, experment with your choices and describe your findings. Finish by selecting a Model to continue with\n"
   ]
  },
  {
   "cell_type": "code",
   "execution_count": null,
   "metadata": {},
   "outputs": [],
   "source": []
  },
  {
   "cell_type": "markdown",
   "metadata": {},
   "source": [
    "# 6. Fine Tune the Model\n",
    "\n",
    "With the select model descibe the steps taken to acheve the best rusults possiable \n"
   ]
  },
  {
   "cell_type": "code",
   "execution_count": null,
   "metadata": {},
   "outputs": [],
   "source": []
  },
  {
   "cell_type": "markdown",
   "metadata": {},
   "source": [
    "# 7. Present\n",
    "In a customer faceing Document provide summery of finding and detail approach taken\n"
   ]
  },
  {
   "cell_type": "code",
   "execution_count": null,
   "metadata": {},
   "outputs": [],
   "source": []
  },
  {
   "cell_type": "markdown",
   "metadata": {},
   "source": [
    "# 8. Launch the Model System\n",
    "Define your production run code, This should be self susficent and require only your model pramaters \n"
   ]
  },
  {
   "cell_type": "code",
   "execution_count": null,
   "metadata": {},
   "outputs": [],
   "source": [
    "def infrence(prams):\n",
    "    results = m.run(prams)\n",
    "    return results "
   ]
  }
 ],
 "metadata": {
  "kernelspec": {
   "display_name": "Python 3 (ipykernel)",
   "language": "python",
   "name": "python3"
  },
  "language_info": {
   "codemirror_mode": {
    "name": "ipython",
    "version": 3
   },
   "file_extension": ".py",
   "mimetype": "text/x-python",
   "name": "python",
   "nbconvert_exporter": "python",
   "pygments_lexer": "ipython3",
   "version": "3.10.10"
  },
  "toc-autonumbering": false,
  "toc-showmarkdowntxt": false
 },
 "nbformat": 4,
 "nbformat_minor": 4
}
