{
 "cells": [
  {
   "cell_type": "code",
   "execution_count": null,
   "metadata": {
    "_cell_guid": "b1076dfc-b9ad-4769-8c92-a6c4dae69d19",
    "_uuid": "8f2839f25d086af736a60e9eeb907d3b93b6e0e5"
   },
   "outputs": [],
   "source": [
    "# This Python 3 environment comes with many helpful analytics libraries installed\n",
    "# It is defined by the kaggle/python Docker image: https://github.com/kaggle/docker-python\n",
    "# For example, here's several helpful packages to load\n",
    "\n",
    "\n",
    "# Input data files are available in the read-only \"../input/\" directory\n",
    "# For example, running this (by clicking run or pressing Shift+Enter) will list all files under the input directory\n",
    "\n",
    "import os\n",
    "\n",
    "for dirname, _, filenames in os.walk(\"./\"):\n",
    "    for filename in filenames:\n",
    "        print(os.path.join(dirname, filename))\n",
    "\n",
    "# You can write up to 20GB to the current directory (/kaggle/working/) that gets preserved as output when you create a version using \"Save & Run All\"\n",
    "# You can also write temporary files to /kaggle/temp/, but they won't be saved outside of the current session"
   ]
  },
  {
   "cell_type": "markdown",
   "metadata": {},
   "source": [
    "# 1. Frame the problem\n",
    "Using the customer description, Define the problem your trying to solve in your own words (remember this is not technial but must be specific so the customer understands the project"
   ]
  },
  {
   "cell_type": "markdown",
   "metadata": {},
   "source": [
    "Predict the probabilities of surviving the Titanic and determine the relationships between passenger attributes and survivability rate. "
   ]
  },
  {
   "cell_type": "markdown",
   "metadata": {},
   "source": [
    "# 2. Get the Data \n",
    "Define how you recieved the data (provided, gathered..)"
   ]
  },
  {
   "cell_type": "markdown",
   "metadata": {},
   "source": [
    "The data was provided to us via csv file."
   ]
  },
  {
   "cell_type": "markdown",
   "metadata": {},
   "source": [
    "# 3. Explore the Data\n",
    "Gain insights into the data you have from step 2, making sure to identify any bias"
   ]
  },
  {
   "cell_type": "code",
   "execution_count": null,
   "metadata": {},
   "outputs": [],
   "source": [
    "# import necessary libraries\n",
    "import pandas as pd\n",
    "import numpy as np\n",
    "import matplotlib.pyplot as plt"
   ]
  },
  {
   "cell_type": "code",
   "execution_count": null,
   "metadata": {},
   "outputs": [],
   "source": [
    "# read csv\n",
    "df = pd.read_csv(\"data/titanic.csv\")\n",
    "df.head()"
   ]
  },
  {
   "cell_type": "code",
   "execution_count": null,
   "metadata": {},
   "outputs": [],
   "source": [
    "df.isna().any()"
   ]
  },
  {
   "cell_type": "markdown",
   "metadata": {},
   "source": [
    "From this table, we can tell that the age, cabin, and embarked columns all have NaN values, so we'll have to clean up those, mostly likely by dropping the row altogether (mean imputation might cause biases due to gender)."
   ]
  },
  {
   "cell_type": "code",
   "execution_count": null,
   "metadata": {},
   "outputs": [],
   "source": [
    "print(f\"Maximum age: {max(df['Age'])}\")\n",
    "print(f\"Minimum age: {min(df['Age'])}\")\n",
    "print(f\"DF of passengers whose ages are less than 1:\\n {df[df['Age'] < 1]}\")"
   ]
  },
  {
   "cell_type": "markdown",
   "metadata": {},
   "source": [
    "The maximum age is 80, which is high and rare for this time, but not entirely out of the question since these passengers were mostly wealthy with easy access to medical help. The minimum age, on the other hand, is 0.42. This is a little weird since age isn't usually represented with decimals, however it might just be a baby who's not yet 1. Upon further analysis, it seems that many passengers had ages less than 1, with one paying a fare of 150 dollars. This now seems more like an error than actual fact."
   ]
  },
  {
   "cell_type": "markdown",
   "metadata": {},
   "source": [
    "From these current columns, I would think that a few wouldn't be helpful to our overall predictions. Ticket number, passengerid, sibsp (siblings/spouses onboard), parch (number of parents/children on board), embarked (port of embarkation), name, and cabin are the attributes I believe won't contribute as much towards out goal. Even if they make small differences (having an earlier ticket implies more wealth), I think they'll be neglible enough to exclude them for training purposes. \n",
    "\n",
    "label descriptions taken from: https://github.com/awesomedata/awesome-public-datasets/issues/351"
   ]
  },
  {
   "cell_type": "markdown",
   "metadata": {},
   "source": [
    "Additionally, there are a few columns that need to be one-hot-encoded, like sex (0 for female, 1 for male). The fare and age might also need to be normalized. "
   ]
  },
  {
   "cell_type": "code",
   "execution_count": null,
   "metadata": {},
   "outputs": [],
   "source": [
    "# graph age and survival rate\n",
    "women = df[df[\"Sex\"] == \"female\"][[\"Age\", \"Survived\"]].dropna()\n",
    "men = df[df[\"Sex\"] == \"male\"][[\"Age\", \"Survived\"]].dropna()\n",
    "\n",
    "plt.hist([women[\"Age\"], men[\"Age\"]], bins=10, color=[\"Red\", \"Blue\"], label=[\"Women\", \"Men\"])\n",
    "plt.title(\"Number of people on the Titanic vs. Age Separated by Gender\")\n",
    "plt.xlabel(\"Age\")\n",
    "plt.ylabel(\"Number of people\")\n",
    "plt.legend()\n",
    "plt.show()\n",
    "\n",
    "# get survival rates based on gender\n",
    "w_survival = women[\"Survived\"].mean()\n",
    "print(f\"Women survival rate: {w_survival}\")\n",
    "\n",
    "m_survival = men[\"Survived\"].mean()\n",
    "print(f\"Men survival rate: {m_survival}\")"
   ]
  },
  {
   "cell_type": "code",
   "execution_count": null,
   "metadata": {},
   "outputs": [],
   "source": [
    "# graph a histogram of ages, with gender separation, but show survival rates for each bin\n",
    "\n",
    "# basically group the women into the bin categories, basically based on tens round(-1), then find the mean survivals of those\n",
    "\n",
    "women[\"Age\"] = round(women[\"Age\"], -1)\n",
    "\n",
    "grouped_women = women.groupby(women[\"Age\"])\n",
    "\n",
    "women_avgs = grouped_women[\"Survived\"].mean()\n",
    "\n",
    "women_avgs[70.0] = 0\n",
    "women_avgs[80.0] = 0\n",
    "\n",
    "print(women_avgs)\n",
    "\n",
    "\n",
    "men[\"Age\"] = round(men[\"Age\"], -1)\n",
    "\n",
    "grouped_men = men.groupby(men[\"Age\"])\n",
    "\n",
    "men_avgs = grouped_men[\"Survived\"].mean()\n",
    "\n",
    "print(men_avgs)\n",
    "\n",
    "survival_df =  pd.DataFrame({\"Women\": women_avgs, \"Men\": men_avgs})\n",
    "\n",
    "survival_df.plot(kind=\"bar\", width=0.8, color=[\"red\", \"blue\"])\n",
    "plt.ylabel(\"Survival Rate\")\n",
    "plt.title(\"Age vs. Survival Rate based on Gender\")\n",
    "plt.show()\n",
    "\n",
    "total_df = (survival_df[\"Women\"] * len(survival_df[\"Women\"]) + survival_df[\"Men\"] * len(survival_df[\"Men\"])) / (len(survival_df[\"Men\"]) + len(survival_df[\"Women\"]))\n",
    "print(total_df)\n",
    "\n",
    "total_df.plot(kind=\"bar\", width=0.8)\n",
    "plt.show()"
   ]
  },
  {
   "cell_type": "code",
   "execution_count": null,
   "metadata": {},
   "outputs": [],
   "source": [
    "classes_df = df[[\"Survived\", \"Pclass\"]]\n",
    "grouped_class = classes_df.groupby(df[\"Pclass\"])\n",
    "\n",
    "class_avgs = grouped_class.mean()\n",
    "\n",
    "print(class_avgs)\n",
    "\n",
    "class_avgs[\"Survived\"].plot(kind=\"bar\", ylim=(0, 1.0))\n",
    "plt.xlabel(\"Passenger Class\")\n",
    "plt.ylabel(\"Survival Rate\")\n",
    "plt.title(\"Passenger Class vs. Survival Rates\")\n",
    "plt.show()"
   ]
  },
  {
   "cell_type": "code",
   "execution_count": null,
   "metadata": {},
   "outputs": [],
   "source": [
    "# relationship between fare prices and class on ship\n",
    "fare_pclass_df = df[[\"Fare\", \"Pclass\"]]\n",
    "\n",
    "plt.scatter(fare_pclass_df[\"Pclass\"], fare_pclass_df[\"Fare\"])\n",
    "plt.xticks([1, 2, 3])\n",
    "plt.xlabel(\"Passenger Class\")\n",
    "plt.ylabel(\"Fare Cost\")\n",
    "plt.title(\"Passenger Class vs. Fare Cost\")\n",
    "plt.show()\n",
    "\n",
    "grouped_fare = fare_pclass_df.groupby(df[\"Pclass\"])\n",
    "print(grouped_fare.mean())\n",
    "\n",
    "plt.plot(grouped_fare.mean()[\"Fare\"], marker=\".\", markersize=10)\n",
    "plt.show()"
   ]
  },
  {
   "cell_type": "markdown",
   "metadata": {},
   "source": [
    "From this graph, it's clear that fare prices and passenger class are pretty linearly related, therefore I believe it would be best to only use passenger class, as it doesn't need to be normalized and is already one-hot-encoded. I also notices that there was a singular ticket price that was $500, which is a clear outlier."
   ]
  },
  {
   "cell_type": "code",
   "execution_count": null,
   "metadata": {},
   "outputs": [],
   "source": [
    "fare_pclass_df_noout = df[[\"Fare\", \"Pclass\"]]\n",
    "fare_pclass_df_noout = fare_pclass_df[fare_pclass_df[\"Fare\"] < 400]\n",
    "\n",
    "plt.scatter(fare_pclass_df_noout[\"Pclass\"], fare_pclass_df_noout[\"Fare\"])\n",
    "plt.xticks([1, 2, 3])\n",
    "plt.xlabel(\"Passenger Class\")\n",
    "plt.ylabel(\"Fare Cost\")\n",
    "plt.title(\"Passenger Class vs. Fare Cost\")\n",
    "plt.show()\n",
    "\n",
    "grouped_fare_noout = fare_pclass_df.groupby(df[\"Pclass\"])\n",
    "print(grouped_fare_noout.mean())\n",
    "\n",
    "plt.plot(grouped_fare_noout.mean()[\"Fare\"], marker=\".\", markersize=10)\n",
    "plt.xticks([1, 2, 3])\n",
    "plt.xlabel(\"Passenger Class\")\n",
    "plt.ylabel(\"Mean Fare Cost\")\n",
    "plt.title(\"Passenger Class vs. Mean Fare Cost\")\n",
    "plt.show()"
   ]
  },
  {
   "cell_type": "markdown",
   "metadata": {},
   "source": [
    "Even with removing that outlier, the data is still pretty skewed, indicating a large class divide between 1 and 2/3."
   ]
  },
  {
   "cell_type": "markdown",
   "metadata": {},
   "source": [
    "# 4.Prepare the Data\n",
    "\n",
    "\n",
    "Apply any data transformations and explain what and why\n"
   ]
  },
  {
   "cell_type": "code",
   "execution_count": null,
   "metadata": {},
   "outputs": [],
   "source": []
  },
  {
   "cell_type": "markdown",
   "metadata": {},
   "source": [
    "# 5. Model the data\n",
    "Using selected ML models, experment with your choices and describe your findings. Finish by selecting a Model to continue with\n"
   ]
  },
  {
   "cell_type": "code",
   "execution_count": null,
   "metadata": {},
   "outputs": [],
   "source": []
  },
  {
   "cell_type": "markdown",
   "metadata": {},
   "source": [
    "# 6. Fine Tune the Model\n",
    "\n",
    "With the select model descibe the steps taken to acheve the best rusults possiable \n"
   ]
  },
  {
   "cell_type": "code",
   "execution_count": null,
   "metadata": {},
   "outputs": [],
   "source": []
  },
  {
   "cell_type": "markdown",
   "metadata": {},
   "source": [
    "# 7. Present\n",
    "In a customer faceing Document provide summery of finding and detail approach taken\n"
   ]
  },
  {
   "cell_type": "code",
   "execution_count": null,
   "metadata": {},
   "outputs": [],
   "source": []
  },
  {
   "cell_type": "markdown",
   "metadata": {},
   "source": [
    "# 8. Launch the Model System\n",
    "Define your production run code, This should be self susficent and require only your model pramaters \n"
   ]
  },
  {
   "cell_type": "code",
   "execution_count": null,
   "metadata": {},
   "outputs": [],
   "source": [
    "def infrence(prams):\n",
    "    results = m.run(prams)\n",
    "    return results "
   ]
  }
 ],
 "metadata": {
  "kernelspec": {
   "display_name": "Python 3 (ipykernel)",
   "language": "python",
   "name": "python3"
  },
  "language_info": {
   "codemirror_mode": {
    "name": "ipython",
    "version": 3
   },
   "file_extension": ".py",
   "mimetype": "text/x-python",
   "name": "python",
   "nbconvert_exporter": "python",
   "pygments_lexer": "ipython3",
   "version": "3.10.10"
  },
  "toc-autonumbering": false,
  "toc-showmarkdowntxt": false
 },
 "nbformat": 4,
 "nbformat_minor": 4
}
