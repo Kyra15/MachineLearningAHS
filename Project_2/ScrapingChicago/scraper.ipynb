{
 "cells": [
  {
   "cell_type": "code",
   "execution_count": 60,
   "id": "4b6b92ea-0ce3-4b07-9758-d3cb1addc087",
   "metadata": {},
   "outputs": [
    {
     "name": "stdout",
     "output_type": "stream",
     "text": [
      "Defaulting to user installation because normal site-packages is not writeable\n",
      "Requirement already satisfied: homeharvest in /home/jupyter-251201/.local/lib/python3.10/site-packages (0.6.2)\n",
      "Requirement already satisfied: pandas<3.0.0,>=2.3.1 in /home/jupyter-251201/.local/lib/python3.10/site-packages (from homeharvest) (2.3.2)\n",
      "Requirement already satisfied: pydantic<3.0.0,>=2.11.7 in /home/jupyter-251201/.local/lib/python3.10/site-packages (from homeharvest) (2.11.7)\n",
      "Requirement already satisfied: requests<3.0.0,>=2.32.4 in /home/jupyter-251201/.local/lib/python3.10/site-packages (from homeharvest) (2.32.5)\n",
      "Requirement already satisfied: tenacity<10.0.0,>=9.1.2 in /home/jupyter-251201/.local/lib/python3.10/site-packages (from homeharvest) (9.1.2)\n",
      "Requirement already satisfied: numpy>=1.22.4 in /opt/tljh/user/lib/python3.10/site-packages (from pandas<3.0.0,>=2.3.1->homeharvest) (1.26.4)\n",
      "Requirement already satisfied: python-dateutil>=2.8.2 in /opt/tljh/user/lib/python3.10/site-packages (from pandas<3.0.0,>=2.3.1->homeharvest) (2.9.0.post0)\n",
      "Requirement already satisfied: pytz>=2020.1 in /opt/tljh/user/lib/python3.10/site-packages (from pandas<3.0.0,>=2.3.1->homeharvest) (2024.1)\n",
      "Requirement already satisfied: tzdata>=2022.7 in /opt/tljh/user/lib/python3.10/site-packages (from pandas<3.0.0,>=2.3.1->homeharvest) (2024.1)\n",
      "Requirement already satisfied: annotated-types>=0.6.0 in /opt/tljh/user/lib/python3.10/site-packages (from pydantic<3.0.0,>=2.11.7->homeharvest) (0.7.0)\n",
      "Requirement already satisfied: pydantic-core==2.33.2 in /home/jupyter-251201/.local/lib/python3.10/site-packages (from pydantic<3.0.0,>=2.11.7->homeharvest) (2.33.2)\n",
      "Requirement already satisfied: typing-extensions>=4.12.2 in /home/jupyter-251201/.local/lib/python3.10/site-packages (from pydantic<3.0.0,>=2.11.7->homeharvest) (4.14.1)\n",
      "Requirement already satisfied: typing-inspection>=0.4.0 in /opt/tljh/user/lib/python3.10/site-packages (from pydantic<3.0.0,>=2.11.7->homeharvest) (0.4.0)\n",
      "Requirement already satisfied: charset_normalizer<4,>=2 in /opt/tljh/user/lib/python3.10/site-packages (from requests<3.0.0,>=2.32.4->homeharvest) (3.1.0)\n",
      "Requirement already satisfied: idna<4,>=2.5 in /opt/tljh/user/lib/python3.10/site-packages (from requests<3.0.0,>=2.32.4->homeharvest) (3.4)\n",
      "Requirement already satisfied: urllib3<3,>=1.21.1 in /home/jupyter-251201/.local/lib/python3.10/site-packages (from requests<3.0.0,>=2.32.4->homeharvest) (2.5.0)\n",
      "Requirement already satisfied: certifi>=2017.4.17 in /home/jupyter-251201/.local/lib/python3.10/site-packages (from requests<3.0.0,>=2.32.4->homeharvest) (2025.8.3)\n",
      "Requirement already satisfied: six>=1.5 in /opt/tljh/user/lib/python3.10/site-packages (from python-dateutil>=2.8.2->pandas<3.0.0,>=2.3.1->homeharvest) (1.16.0)\n",
      "\n",
      "\u001b[1m[\u001b[0m\u001b[34;49mnotice\u001b[0m\u001b[1;39;49m]\u001b[0m\u001b[39;49m A new release of pip is available: \u001b[0m\u001b[31;49m25.1.1\u001b[0m\u001b[39;49m -> \u001b[0m\u001b[32;49m25.2\u001b[0m\n",
      "\u001b[1m[\u001b[0m\u001b[34;49mnotice\u001b[0m\u001b[1;39;49m]\u001b[0m\u001b[39;49m To update, run: \u001b[0m\u001b[32;49mpip install --upgrade pip\u001b[0m\n"
     ]
    }
   ],
   "source": [
    "!pip install -U homeharvest"
   ]
  },
  {
   "cell_type": "code",
   "execution_count": 67,
   "id": "7a0f2021-7333-44a7-9330-f2edfd09d5ab",
   "metadata": {},
   "outputs": [],
   "source": [
    "from homeharvest import scrape_property\n",
    "from datetime import datetime"
   ]
  },
  {
   "cell_type": "code",
   "execution_count": 87,
   "id": "81de19fb-9a28-44af-9dda-d914026ec320",
   "metadata": {},
   "outputs": [
    {
     "name": "stdout",
     "output_type": "stream",
     "text": [
      "Number of sold properties: 10000\n",
      "                                        property_url property_id  listing_id  \\\n",
      "0  https://www.realtor.com/realestateandhomes-det...  7321720648  2984140861   \n",
      "1  https://www.realtor.com/realestateandhomes-det...  7423942534  2982210344   \n",
      "2  https://www.realtor.com/realestateandhomes-det...  8133690016  2983439350   \n",
      "3  https://www.realtor.com/realestateandhomes-det...  7703176241  2984918185   \n",
      "4  https://www.realtor.com/realestateandhomes-det...  8923148772  2982857219   \n",
      "\n",
      "                                           permalink   mls    mls_id status  \\\n",
      "0  11530-S-Campbell-Ave_Chicago_IL_60655_M73217-2...  CHIL  12388212   SOLD   \n",
      "1  4250-N-Marine-Dr-Apt-430_Chicago_IL_60613_M742...  CHIL  12347124   SOLD   \n",
      "2  2132-W-Evergreen-Ave-D1_Chicago_IL_60622_M8133...  CHIL  12395610   SOLD   \n",
      "3  6335-N-Claremont-Ave_Chicago_IL_60659_M77031-7...  CHIL  12435019   SOLD   \n",
      "4    6714-S-Paxton-Ave_Chicago_IL_60649_M89231-48772  CHIL  12383519   SOLD   \n",
      "\n",
      "  mls_status                                               text  \\\n",
      "0       Sold  Don't miss the chance to own a beautiful home ...   \n",
      "1       Sold  Welcome to this beautifully maintained one-bed...   \n",
      "2       Sold  Beautifully updated and effortlessly livable 2...   \n",
      "3       Sold  Lovely vintage brick 3-flat with an in-law gar...   \n",
      "4       Sold  Ownership comes with options! If you were to s...   \n",
      "\n",
      "           style  ... builder_id builder_name office_id office_mls_set  \\\n",
      "0  SINGLE_FAMILY  ...       <NA>         <NA>      <NA>   O-CHIL-87769   \n",
      "1         CONDOS  ...       <NA>         <NA>      <NA>   O-CHIL-88212   \n",
      "2         CONDOS  ...       <NA>         <NA>   3723547   O-CHIL-87120   \n",
      "3   MULTI_FAMILY  ...       <NA>         <NA>      3640    O-CHIL-3110   \n",
      "4  SINGLE_FAMILY  ...       <NA>         <NA>      <NA>   O-CHIL-87355   \n",
      "\n",
      "               office_name              office_email  \\\n",
      "0      Town Realty Chicago                      <NA>   \n",
      "1          eXp Realty, LLC   il.broker@exprealty.net   \n",
      "2                  COMPASS                      <NA>   \n",
      "3  Baird & Warner Evanston  evanston@bairdwarner.com   \n",
      "4     BAC Realty Group LLC                      <NA>   \n",
      "\n",
      "                                       office_phones          nearby_schools  \\\n",
      "0  [{'number': '(773) 329-3284', 'type': 'Mobile'...  Chicago Public Schools   \n",
      "1  [{'number': '8885749405', 'type': None, 'prima...  Chicago Public Schools   \n",
      "2  [{'number': '3123193300', 'type': 'Office', 'p...  Chicago Public Schools   \n",
      "3  [{'number': '3125002590', 'type': 'Office', 'p...  Chicago Public Schools   \n",
      "4  [{'number': '3125283229', 'type': 'Office', 'p...  Chicago Public Schools   \n",
      "\n",
      "                                       primary_photo  \\\n",
      "0  https://ap.rdcpix.com/43f919e75c1b47d83c20f3b2...   \n",
      "1  https://ap.rdcpix.com/e3e47199d8ad3e2d4ce11295...   \n",
      "2  https://ap.rdcpix.com/bf695f1df31c1236d67346ac...   \n",
      "3  https://ap.rdcpix.com/9a2e9ae6077fd95fe335768b...   \n",
      "4  https://ap.rdcpix.com/562aa289a9a44e348470ee08...   \n",
      "\n",
      "                                          alt_photos  \n",
      "0  https://ap.rdcpix.com/43f919e75c1b47d83c20f3b2...  \n",
      "1  https://ap.rdcpix.com/e3e47199d8ad3e2d4ce11295...  \n",
      "2  https://ap.rdcpix.com/bf695f1df31c1236d67346ac...  \n",
      "3  https://ap.rdcpix.com/9a2e9ae6077fd95fe335768b...  \n",
      "4  https://ap.rdcpix.com/562aa289a9a44e348470ee08...  \n",
      "\n",
      "[5 rows x 64 columns]\n"
     ]
    }
   ],
   "source": [
    "current_timestamp = datetime.now().strftime(\"%Y%m%d_%H%M%S\")\n",
    "filename = f\"HomeHarvest_{current_timestamp}.csv\"\n",
    "\n",
    "sold_properties = scrape_property(\n",
    "    location=\"Chicago, IL\",\n",
    "    listing_type=\"sold\",\n",
    "    past_days=730,\n",
    ")\n",
    "print(f\"Number of sold properties: {len(sold_properties)}\")\n",
    "print(sold_properties.head())"
   ]
  },
  {
   "cell_type": "code",
   "execution_count": 88,
   "id": "814b95cf-75b8-4532-b0e1-6e6f2c6e4778",
   "metadata": {},
   "outputs": [],
   "source": [
    "sold_properties.to_csv(filename, index=False)"
   ]
  },
  {
   "cell_type": "code",
   "execution_count": 89,
   "id": "540af4ef-9747-447d-a2f3-28b0a61d725d",
   "metadata": {},
   "outputs": [],
   "source": [
    "sold_df = sold_properties[[\"property_id\", \"formatted_address\", \"zip_code\", \"style\", \"beds\", \n",
    "                           \"full_baths\", \"half_baths\", \"sqft\", \"year_built\", \n",
    "                           \"list_price\", \"sold_price\"]]\n",
    "sold_df = sold_df.dropna()"
   ]
  },
  {
   "cell_type": "code",
   "execution_count": 90,
   "id": "2a200a22-eaba-4c61-9183-6f93306ac26b",
   "metadata": {},
   "outputs": [],
   "source": [
    "sold_df[\"age\"] = datetime.now().year - sold_df[\"year_built\"]\n",
    "sold_df.drop(columns=\"year_built\", inplace=True)"
   ]
  },
  {
   "cell_type": "code",
   "execution_count": 91,
   "id": "2e03ec5f-4d62-4a3e-bce5-c533f759398e",
   "metadata": {},
   "outputs": [],
   "source": [
    "sold_df.to_csv(\"data.csv\", index=False)"
   ]
  },
  {
   "cell_type": "code",
   "execution_count": null,
   "id": "e19b5c09-76fa-49b1-97f3-5b81147b8e39",
   "metadata": {},
   "outputs": [],
   "source": []
  }
 ],
 "metadata": {
  "kernelspec": {
   "display_name": "Python 3 (ipykernel)",
   "language": "python",
   "name": "python3"
  },
  "language_info": {
   "codemirror_mode": {
    "name": "ipython",
    "version": 3
   },
   "file_extension": ".py",
   "mimetype": "text/x-python",
   "name": "python",
   "nbconvert_exporter": "python",
   "pygments_lexer": "ipython3",
   "version": "3.10.10"
  }
 },
 "nbformat": 4,
 "nbformat_minor": 5
}
