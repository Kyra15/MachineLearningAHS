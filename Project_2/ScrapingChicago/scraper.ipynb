{
 "cells": [
  {
   "cell_type": "code",
   "execution_count": 60,
   "id": "4b6b92ea-0ce3-4b07-9758-d3cb1addc087",
   "metadata": {},
   "outputs": [
    {
     "name": "stdout",
     "output_type": "stream",
     "text": [
      "Defaulting to user installation because normal site-packages is not writeable\n",
      "Requirement already satisfied: homeharvest in /home/jupyter-251201/.local/lib/python3.10/site-packages (0.6.2)\n",
      "Requirement already satisfied: pandas<3.0.0,>=2.3.1 in /home/jupyter-251201/.local/lib/python3.10/site-packages (from homeharvest) (2.3.2)\n",
      "Requirement already satisfied: pydantic<3.0.0,>=2.11.7 in /home/jupyter-251201/.local/lib/python3.10/site-packages (from homeharvest) (2.11.7)\n",
      "Requirement already satisfied: requests<3.0.0,>=2.32.4 in /home/jupyter-251201/.local/lib/python3.10/site-packages (from homeharvest) (2.32.5)\n",
      "Requirement already satisfied: tenacity<10.0.0,>=9.1.2 in /home/jupyter-251201/.local/lib/python3.10/site-packages (from homeharvest) (9.1.2)\n",
      "Requirement already satisfied: numpy>=1.22.4 in /opt/tljh/user/lib/python3.10/site-packages (from pandas<3.0.0,>=2.3.1->homeharvest) (1.26.4)\n",
      "Requirement already satisfied: python-dateutil>=2.8.2 in /opt/tljh/user/lib/python3.10/site-packages (from pandas<3.0.0,>=2.3.1->homeharvest) (2.9.0.post0)\n",
      "Requirement already satisfied: pytz>=2020.1 in /opt/tljh/user/lib/python3.10/site-packages (from pandas<3.0.0,>=2.3.1->homeharvest) (2024.1)\n",
      "Requirement already satisfied: tzdata>=2022.7 in /opt/tljh/user/lib/python3.10/site-packages (from pandas<3.0.0,>=2.3.1->homeharvest) (2024.1)\n",
      "Requirement already satisfied: annotated-types>=0.6.0 in /opt/tljh/user/lib/python3.10/site-packages (from pydantic<3.0.0,>=2.11.7->homeharvest) (0.7.0)\n",
      "Requirement already satisfied: pydantic-core==2.33.2 in /home/jupyter-251201/.local/lib/python3.10/site-packages (from pydantic<3.0.0,>=2.11.7->homeharvest) (2.33.2)\n",
      "Requirement already satisfied: typing-extensions>=4.12.2 in /home/jupyter-251201/.local/lib/python3.10/site-packages (from pydantic<3.0.0,>=2.11.7->homeharvest) (4.14.1)\n",
      "Requirement already satisfied: typing-inspection>=0.4.0 in /opt/tljh/user/lib/python3.10/site-packages (from pydantic<3.0.0,>=2.11.7->homeharvest) (0.4.0)\n",
      "Requirement already satisfied: charset_normalizer<4,>=2 in /opt/tljh/user/lib/python3.10/site-packages (from requests<3.0.0,>=2.32.4->homeharvest) (3.1.0)\n",
      "Requirement already satisfied: idna<4,>=2.5 in /opt/tljh/user/lib/python3.10/site-packages (from requests<3.0.0,>=2.32.4->homeharvest) (3.4)\n",
      "Requirement already satisfied: urllib3<3,>=1.21.1 in /home/jupyter-251201/.local/lib/python3.10/site-packages (from requests<3.0.0,>=2.32.4->homeharvest) (2.5.0)\n",
      "Requirement already satisfied: certifi>=2017.4.17 in /home/jupyter-251201/.local/lib/python3.10/site-packages (from requests<3.0.0,>=2.32.4->homeharvest) (2025.8.3)\n",
      "Requirement already satisfied: six>=1.5 in /opt/tljh/user/lib/python3.10/site-packages (from python-dateutil>=2.8.2->pandas<3.0.0,>=2.3.1->homeharvest) (1.16.0)\n",
      "\n",
      "\u001b[1m[\u001b[0m\u001b[34;49mnotice\u001b[0m\u001b[1;39;49m]\u001b[0m\u001b[39;49m A new release of pip is available: \u001b[0m\u001b[31;49m25.1.1\u001b[0m\u001b[39;49m -> \u001b[0m\u001b[32;49m25.2\u001b[0m\n",
      "\u001b[1m[\u001b[0m\u001b[34;49mnotice\u001b[0m\u001b[1;39;49m]\u001b[0m\u001b[39;49m To update, run: \u001b[0m\u001b[32;49mpip install --upgrade pip\u001b[0m\n"
     ]
    }
   ],
   "source": [
    "!pip install -U homeharvest"
   ]
  },
  {
   "cell_type": "code",
   "execution_count": 67,
   "id": "7a0f2021-7333-44a7-9330-f2edfd09d5ab",
   "metadata": {},
   "outputs": [],
   "source": [
    "from homeharvest import scrape_property\n",
    "from datetime import datetime"
   ]
  },
  {
   "cell_type": "code",
   "execution_count": 87,
   "id": "81de19fb-9a28-44af-9dda-d914026ec320",
   "metadata": {},
   "outputs": [
    {
     "name": "stdout",
     "output_type": "stream",
     "text": [
      "Number of sold properties: 10000\n",
      "                                        property_url property_id  listing_id  \\\n",
      "0  https://www.realtor.com/realestateandhomes-det...  7321720648  2984140861   \n",
      "1  https://www.realtor.com/realestateandhomes-det...  7423942534  2982210344   \n",
      "2  https://www.realtor.com/realestateandhomes-det...  8133690016  2983439350   \n",
      "3  https://www.realtor.com/realestateandhomes-det...  7703176241  2984918185   \n",
      "4  https://www.realtor.com/realestateandhomes-det...  8923148772  2982857219   \n",
      "\n",
      "                                           permalink   mls    mls_id status  \\\n",
      "0  11530-S-Campbell-Ave_Chicago_IL_60655_M73217-2...  CHIL  12388212   SOLD   \n",
      "1  4250-N-Marine-Dr-Apt-430_Chicago_IL_60613_M742...  CHIL  12347124   SOLD   \n",
      "2  2132-W-Evergreen-Ave-D1_Chicago_IL_60622_M8133...  CHIL  12395610   SOLD   \n",
      "3  6335-N-Claremont-Ave_Chicago_IL_60659_M77031-7...  CHIL  12435019   SOLD   \n",
      "4    6714-S-Paxton-Ave_Chicago_IL_60649_M89231-48772  CHIL  12383519   SOLD   \n",
      "\n",
      "  mls_status                                               text  \\\n",
      "0       Sold  Don't miss the chance to own a beautiful home ...   \n",
      "1       Sold  Welcome to this beautifully maintained one-bed...   \n",
      "2       Sold  Beautifully updated and effortlessly livable 2...   \n",
      "3       Sold  Lovely vintage brick 3-flat with an in-law gar...   \n",
      "4       Sold  Ownership comes with options! If you were to s...   \n",
      "\n",
      "           style  ... builder_id builder_name office_id office_mls_set  \\\n",
      "0  SINGLE_FAMILY  ...       <NA>         <NA>      <NA>   O-CHIL-87769   \n",
      "1         CONDOS  ...       <NA>         <NA>      <NA>   O-CHIL-88212   \n",
      "2         CONDOS  ...       <NA>         <NA>   3723547   O-CHIL-87120   \n",
      "3   MULTI_FAMILY  ...       <NA>         <NA>      3640    O-CHIL-3110   \n",
      "4  SINGLE_FAMILY  ...       <NA>         <NA>      <NA>   O-CHIL-87355   \n",
      "\n",
      "               office_name              office_email  \\\n",
      "0      Town Realty Chicago                      <NA>   \n",
      "1          eXp Realty, LLC   il.broker@exprealty.net   \n",
      "2                  COMPASS                      <NA>   \n",
      "3  Baird & Warner Evanston  evanston@bairdwarner.com   \n",
      "4     BAC Realty Group LLC                      <NA>   \n",
      "\n",
      "                                       office_phones          nearby_schools  \\\n",
      "0  [{'number': '(773) 329-3284', 'type': 'Mobile'...  Chicago Public Schools   \n",
      "1  [{'number': '8885749405', 'type': None, 'prima...  Chicago Public Schools   \n",
      "2  [{'number': '3123193300', 'type': 'Office', 'p...  Chicago Public Schools   \n",
      "3  [{'number': '3125002590', 'type': 'Office', 'p...  Chicago Public Schools   \n",
      "4  [{'number': '3125283229', 'type': 'Office', 'p...  Chicago Public Schools   \n",
      "\n",
      "                                       primary_photo  \\\n",
      "0  https://ap.rdcpix.com/43f919e75c1b47d83c20f3b2...   \n",
      "1  https://ap.rdcpix.com/e3e47199d8ad3e2d4ce11295...   \n",
      "2  https://ap.rdcpix.com/bf695f1df31c1236d67346ac...   \n",
      "3  https://ap.rdcpix.com/9a2e9ae6077fd95fe335768b...   \n",
      "4  https://ap.rdcpix.com/562aa289a9a44e348470ee08...   \n",
      "\n",
      "                                          alt_photos  \n",
      "0  https://ap.rdcpix.com/43f919e75c1b47d83c20f3b2...  \n",
      "1  https://ap.rdcpix.com/e3e47199d8ad3e2d4ce11295...  \n",
      "2  https://ap.rdcpix.com/bf695f1df31c1236d67346ac...  \n",
      "3  https://ap.rdcpix.com/9a2e9ae6077fd95fe335768b...  \n",
      "4  https://ap.rdcpix.com/562aa289a9a44e348470ee08...  \n",
      "\n",
      "[5 rows x 64 columns]\n"
     ]
    }
   ],
   "source": [
    "current_timestamp = datetime.now().strftime(\"%Y%m%d_%H%M%S\")\n",
    "filename = f\"HomeHarvest_{current_timestamp}.csv\"\n",
    "\n",
    "sold_properties = scrape_property(\n",
    "    location=\"Chicago, IL\",\n",
    "    listing_type=\"sold\",\n",
    "    past_days=730,\n",
    ")\n",
    "print(f\"Number of sold properties: {len(sold_properties)}\")\n",
    "print(sold_properties.head())"
   ]
  },
  {
   "cell_type": "code",
   "execution_count": null,
   "id": "cc21e511-45c6-4416-9022-3bb3d091a79c",
   "metadata": {},
   "outputs": [],
   "source": [
    "sold_properties.to_csv(\"raw_data_sold.csv\", index=False)"
   ]
  },
  {
   "cell_type": "code",
   "execution_count": 102,
   "id": "eaaeacc5-4624-4db6-b4e7-9f99a884bff5",
   "metadata": {},
   "outputs": [
    {
     "name": "stdout",
     "output_type": "stream",
     "text": [
      "Number of pending properties: 3020\n",
      "                                        property_url property_id  listing_id  \\\n",
      "0  https://www.realtor.com/realestateandhomes-det...  7795183224  2985958809   \n",
      "1  https://www.realtor.com/realestateandhomes-det...  8179342905  2984336207   \n",
      "2  https://www.realtor.com/realestateandhomes-det...  7950128196  2986036871   \n",
      "3  https://www.realtor.com/realestateandhomes-det...  7962103159  2984844482   \n",
      "4  https://www.realtor.com/realestateandhomes-det...  7195731466  2985791284   \n",
      "\n",
      "                                           permalink   mls    mls_id  \\\n",
      "0    6849-S-Keeler-Ave_Chicago_IL_60629_M77951-83224  CHIL  12461198   \n",
      "1  7363-S-South-Shore-Dr-Apt-101_Chicago_IL_60649...  CHIL  12421779   \n",
      "2   4850-N-Kostner-Ave_Chicago_IL_60630_M79501-28196  CHIL  12035221   \n",
      "3   5852-N-Navarre-Ave_Chicago_IL_60631_M79621-03159  CHIL  12432476   \n",
      "4    6067-N-Oconto-Ave_Chicago_IL_60631_M71957-31466  CHIL  12457054   \n",
      "\n",
      "       status mls_status                                               text  \\\n",
      "0     PENDING    Pending  Amazing Opportunity by the Midway Area! This b...   \n",
      "1     PENDING    Pending  Savvy Investors 1-bedroom condo, perfectly sit...   \n",
      "2  CONTINGENT     Active  ***Highest & Best by 11am Monday 9/8***Charmin...   \n",
      "3  CONTINGENT     Active  CALLING ALL REHABERS & DEVLOPERS! Oversized 34...   \n",
      "4  CONTINGENT     Active  This stunning 4-bed, 3.5-bath brick home on a ...   \n",
      "\n",
      "           style  ... builder_id builder_name  office_id office_mls_set  \\\n",
      "0  SINGLE_FAMILY  ...       <NA>         <NA>     671133   O-CHIL-14856   \n",
      "1         CONDOS  ...       <NA>         <NA>       <NA>   O-CHIL-88266   \n",
      "2  SINGLE_FAMILY  ...       <NA>         <NA>  100719353   O-CHIL-96187   \n",
      "3  SINGLE_FAMILY  ...       <NA>         <NA>    3862654   O-CHIL-87492   \n",
      "4  SINGLE_FAMILY  ...       <NA>         <NA>    2180258   O-CHIL-29284   \n",
      "\n",
      "                      office_name                         office_email  \\\n",
      "0          SU FAMILIA REAL ESTATE                  nelly.sfr@gmail.com   \n",
      "1             A List Homes Realty          dalila@alisthomesrealty.com   \n",
      "2  Keller Williams Success Realty                                 <NA>   \n",
      "3    @properties Park Ridge North  realtordotcomleads@atproperties.com   \n",
      "4                  Baird & Warner            rmurawski@koenigstrey.com   \n",
      "\n",
      "                                       office_phones nearby_schools  \\\n",
      "0  [{'number': '7735819600', 'type': 'Office', 'p...           <NA>   \n",
      "1  [{'number': '5108725390', 'type': 'Mobile', 'p...           <NA>   \n",
      "2  [{'number': '(847) 381-9500', 'type': 'BUSINES...           <NA>   \n",
      "3  [{'number': '8476577000', 'type': 'Office', 'p...           <NA>   \n",
      "4  [{'number': '7732500400', 'type': 'Office', 'p...           <NA>   \n",
      "\n",
      "                                       primary_photo  \\\n",
      "0  https://ap.rdcpix.com/92c0b8077f98cb4962b85c00...   \n",
      "1  https://ap.rdcpix.com/3860fc0828219c39424c0fc5...   \n",
      "2  https://ap.rdcpix.com/b4931eb0d8b50e36a17d9d9e...   \n",
      "3  https://ap.rdcpix.com/1829afc94f4b8a99d13aabbf...   \n",
      "4  https://ap.rdcpix.com/e14361b0c7f498d17b8d854b...   \n",
      "\n",
      "                                          alt_photos  \n",
      "0  https://ap.rdcpix.com/92c0b8077f98cb4962b85c00...  \n",
      "1  https://ap.rdcpix.com/3860fc0828219c39424c0fc5...  \n",
      "2  https://ap.rdcpix.com/b4931eb0d8b50e36a17d9d9e...  \n",
      "3  https://ap.rdcpix.com/1829afc94f4b8a99d13aabbf...  \n",
      "4  https://ap.rdcpix.com/e14361b0c7f498d17b8d854b...  \n",
      "\n",
      "[5 rows x 64 columns]\n"
     ]
    }
   ],
   "source": [
    "pending_properties = scrape_property(\n",
    "    location=\"Chicago, IL\",\n",
    "    listing_type=\"pending\",\n",
    "    past_days=730,\n",
    ")\n",
    "print(f\"Number of pending properties: {len(pending_properties)}\")\n",
    "print(pending_properties.head())"
   ]
  },
  {
   "cell_type": "code",
   "execution_count": 124,
   "id": "0f23f1a0-288a-45eb-97ff-64e5885daca9",
   "metadata": {},
   "outputs": [
    {
     "name": "stdout",
     "output_type": "stream",
     "text": [
      "Number of for sale properties: 9428\n",
      "                                        property_url property_id  listing_id  \\\n",
      "0  https://www.realtor.com/realestateandhomes-det...  8159462580  2984805816   \n",
      "1  https://www.realtor.com/realestateandhomes-det...  8905842516  2985682212   \n",
      "2  https://www.realtor.com/realestateandhomes-det...  7781153895  2984593625   \n",
      "3  https://www.realtor.com/realestateandhomes-det...  8889256052  2985720571   \n",
      "4  https://www.realtor.com/realestateandhomes-det...  7494862708  2984707248   \n",
      "\n",
      "                                           permalink   mls    mls_id  \\\n",
      "0  7631-N-Eastlake-Ter-2A-3A_Chicago_IL_60626_M81...  CHIL  12432704   \n",
      "1  1416-W-Olive-Ave-Apt-2_Chicago_IL_60660_M89058...  CHIL  12454133   \n",
      "2  6836-S-Crandon-Ave-Apt-3_Chicago_IL_60649_M778...  CHIL  12424083   \n",
      "3  1448-N-Lake-Shore-Dr-Apt-9A_Chicago_IL_60610_M...  CHIL  12454980   \n",
      "4  1235-N-Dearborn-St-CH_Chicago_IL_60610_M74948-...  CHIL  12429550   \n",
      "\n",
      "       status mls_status                                               text  \\\n",
      "0  CONTINGENT     Active  Enjoy this HUGE, beautifully appointed 3 bed /...   \n",
      "1    FOR_SALE     Active  Vintage soul. Modern style. Andersonville at i...   \n",
      "2  CONTINGENT     Active  Great opportunity to own a condo on the 3rd fl...   \n",
      "3    FOR_SALE     Active  Perfect city living in this fabulously renovat...   \n",
      "4  CONTINGENT     Active  Gold Coast's Hidden Gem, Rarely Available 2 st...   \n",
      "\n",
      "    style  ... builder_id builder_name office_id office_mls_set  \\\n",
      "0  CONDOS  ...       <NA>         <NA>    434746   O-CHIL-21823   \n",
      "1  CONDOS  ...       <NA>         <NA>   1948102   O-CHIL-85774   \n",
      "2  CONDOS  ...       <NA>         <NA>   4164727   O-CHIL-28343   \n",
      "3  CONDOS  ...       <NA>         <NA>   1948102   O-CHIL-85774   \n",
      "4  CONDOS  ...       <NA>         <NA>   1459457   O-CHIL-84992   \n",
      "\n",
      "                     office_name                    office_email  \\\n",
      "0     PLATINUM PARTNERS REALTORS               info@pprhomes.com   \n",
      "1  @properties East Lincoln Park  melodytorrens@atproperties.com   \n",
      "2         @properties Naperville                            <NA>   \n",
      "3  @properties East Lincoln Park  melodytorrens@atproperties.com   \n",
      "4                 RE MAX Premier          janicecorley@remax.net   \n",
      "\n",
      "                                       office_phones          nearby_schools  \\\n",
      "0  [{'number': '6304353500', 'type': 'Office', 'p...  Chicago Public Schools   \n",
      "1  [{'number': '7734720200', 'type': 'Office', 'p...  Chicago Public Schools   \n",
      "2  [{'number': '6306340700', 'type': 'BUSINESS_PH...  Chicago Public Schools   \n",
      "3  [{'number': '7734720200', 'type': 'Office', 'p...  Chicago Public Schools   \n",
      "4  [{'number': '(312) 475-1717', 'type': 'Office'...  Chicago Public Schools   \n",
      "\n",
      "                                       primary_photo  \\\n",
      "0  https://ap.rdcpix.com/6b44b1f8348844ca8a9ae2c2...   \n",
      "1  https://ap.rdcpix.com/ffaa97087b8b27f16e8310ac...   \n",
      "2  https://ap.rdcpix.com/9ae82f5cb952cead45ca9172...   \n",
      "3  https://ap.rdcpix.com/514e5f5a4a6a8b9420ac8f59...   \n",
      "4  https://ap.rdcpix.com/10615505eae6a75cfd9f177b...   \n",
      "\n",
      "                                          alt_photos  \n",
      "0  https://ap.rdcpix.com/6b44b1f8348844ca8a9ae2c2...  \n",
      "1  https://ap.rdcpix.com/ffaa97087b8b27f16e8310ac...  \n",
      "2  https://ap.rdcpix.com/9ae82f5cb952cead45ca9172...  \n",
      "3  https://ap.rdcpix.com/514e5f5a4a6a8b9420ac8f59...  \n",
      "4  https://ap.rdcpix.com/10615505eae6a75cfd9f177b...  \n",
      "\n",
      "[5 rows x 64 columns]\n"
     ]
    }
   ],
   "source": [
    "for_sale_properties = scrape_property(\n",
    "    location=\"Chicago, IL\",\n",
    "    listing_type=\"for_sale\",\n",
    "    past_days=730,\n",
    ")\n",
    "print(f\"Number of for sale properties: {len(for_sale_properties)}\")\n",
    "print(for_sale_properties.head())"
   ]
  },
  {
   "cell_type": "code",
   "execution_count": 125,
   "id": "7fb42a9b-aa54-4362-accc-279716b49797",
   "metadata": {},
   "outputs": [
    {
     "name": "stdout",
     "output_type": "stream",
     "text": [
      "Number of for rent properties: 9555\n",
      "                                        property_url property_id  listing_id  \\\n",
      "0  https://www.realtor.com/rentals/details/1513-N...  9956267443  2984279439   \n",
      "1  https://www.realtor.com/rentals/details/4815-N...  8903207824  2977155717   \n",
      "2  https://www.realtor.com/rentals/details/4907-S...  9053975581  2977156911   \n",
      "3  https://www.realtor.com/rentals/details/5300-W...  8460837147  2979056042   \n",
      "4  https://www.realtor.com/rentals/details/8040-S...  8606877089  2985524902   \n",
      "\n",
      "                                           permalink   mls         mls_id  \\\n",
      "0  1513-N-California-Ave_Chicago_IL_60622_M99562-...  ZILL  4syej5mpsxn3m   \n",
      "1  4815-N-Springfield-Ave_Chicago_IL_60625_M89032...  ZILL  4fcrn75bknsm7   \n",
      "2  4907-S-Saint-Lawrence-Ave_Chicago_IL_60615_M90...  ZILL  2r84y5r1aupvc   \n",
      "3   5300-W-Division-St_Chicago_IL_60651_M84608-37147  ZILL  3fwyz2tp4x75q   \n",
      "4     8040-S-Clyde-Ave_Chicago_IL_60617_M86068-77089  CHIL       12451128   \n",
      "\n",
      "     status mls_status                                               text  \\\n",
      "0  FOR_RENT       <NA>  Welcome to our 7-unit building nestled in Chic...   \n",
      "1  FOR_RENT       <NA>  As one of Chicago's most ethnically diverse ne...   \n",
      "2  FOR_RENT       <NA>  Welcome to Willard Square Apartments, located ...   \n",
      "3  FOR_RENT       <NA>  Welcome to our complex site! Are you looking f...   \n",
      "4  FOR_RENT     Active                                               <NA>   \n",
      "\n",
      "           style  ... builder_id builder_name office_id office_mls_set  \\\n",
      "0      APARTMENT  ...       <NA>         <NA>      <NA>           <NA>   \n",
      "1      APARTMENT  ...       <NA>         <NA>      <NA>           <NA>   \n",
      "2      APARTMENT  ...       <NA>         <NA>      <NA>           <NA>   \n",
      "3      APARTMENT  ...       <NA>         <NA>      <NA>           <NA>   \n",
      "4  SINGLE_FAMILY  ...       <NA>         <NA>    372598   O-CHIL-88717   \n",
      "\n",
      "      office_name                  office_email  \\\n",
      "0            <NA>                          <NA>   \n",
      "1            <NA>                          <NA>   \n",
      "2            <NA>                          <NA>   \n",
      "3            <NA>                          <NA>   \n",
      "4  Baird & Warner  joseph.beattie@dreamtown.com   \n",
      "\n",
      "                                       office_phones  \\\n",
      "0                                               <NA>   \n",
      "1                                               <NA>   \n",
      "2                                               <NA>   \n",
      "3                                               <NA>   \n",
      "4  [{'number': '3129539879', 'type': 'Office', 'p...   \n",
      "\n",
      "                                      nearby_schools  \\\n",
      "0                             Chicago Public Schools   \n",
      "1                             Chicago Public Schools   \n",
      "2  Chicago Public Schools, Bronzeville Academy CH...   \n",
      "3                             Chicago Public Schools   \n",
      "4                             Chicago Public Schools   \n",
      "\n",
      "                                       primary_photo  \\\n",
      "0  https://ar.rdcpix.com/b29288631d323340f113a9c7...   \n",
      "1  https://ar.rdcpix.com/e2f6bb1c7f91783545a0fe9e...   \n",
      "2  https://ar.rdcpix.com/e6dcd006d9e9a7b5e3eeb63c...   \n",
      "3  https://ar.rdcpix.com/34547ecbe01b568729e61073...   \n",
      "4  https://ap.rdcpix.com/624df2b91f99be5c99373b51...   \n",
      "\n",
      "                                          alt_photos  \n",
      "0  https://ar.rdcpix.com/b29288631d323340f113a9c7...  \n",
      "1  https://ar.rdcpix.com/e2f6bb1c7f91783545a0fe9e...  \n",
      "2  https://ar.rdcpix.com/e6dcd006d9e9a7b5e3eeb63c...  \n",
      "3  https://ar.rdcpix.com/34547ecbe01b568729e61073...  \n",
      "4  https://ap.rdcpix.com/624df2b91f99be5c99373b51...  \n",
      "\n",
      "[5 rows x 64 columns]\n"
     ]
    }
   ],
   "source": [
    "for_rent_properties = scrape_property(\n",
    "    location=\"Chicago, IL\",\n",
    "    listing_type=\"for_rent\",\n",
    "    past_days=730,\n",
    ")\n",
    "print(f\"Number of for rent properties: {len(for_rent_properties)}\")\n",
    "print(for_rent_properties.head())"
   ]
  },
  {
   "cell_type": "code",
   "execution_count": 141,
   "id": "540af4ef-9747-447d-a2f3-28b0a61d725d",
   "metadata": {},
   "outputs": [
    {
     "name": "stdout",
     "output_type": "stream",
     "text": [
      "22448\n"
     ]
    }
   ],
   "source": [
    "df = pd.concat([sold_properties, pending_properties, for_sale_properties])\n",
    "print(len(df))\n",
    "\n",
    "df.to_csv(\"raw_data.csv\", index=False)"
   ]
  },
  {
   "cell_type": "code",
   "execution_count": 135,
   "id": "aff59984-1a25-438f-a3a5-44fd5ba3d639",
   "metadata": {},
   "outputs": [
    {
     "name": "stdout",
     "output_type": "stream",
     "text": [
      "10353\n",
      "8762\n"
     ]
    }
   ],
   "source": [
    "df = df[[\"property_id\", \"formatted_address\", \"zip_code\", \"style\", \"beds\", \n",
    "                           \"full_baths\", \"half_baths\", \"sqft\", \"year_built\", \n",
    "                           \"list_price\", \"last_sold_price\"]]\n",
    "\n",
    "df.to_csv(\"df.csv\", index=False)\n",
    "\n",
    "df = df.dropna(subset=['zip_code', \"list_price\", \"last_sold_price\", \"sqft\", \"beds\", \"full_baths\"])\n",
    "print(len(df))\n",
    "\n",
    "df.drop_duplicates(inplace=True)\n",
    "print(len(df))"
   ]
  },
  {
   "cell_type": "code",
   "execution_count": 136,
   "id": "2a200a22-eaba-4c61-9183-6f93306ac26b",
   "metadata": {},
   "outputs": [],
   "source": [
    "df[\"age\"] = datetime.now().year - df[\"year_built\"]\n",
    "df.drop(columns=\"year_built\", inplace=True)"
   ]
  },
  {
   "cell_type": "code",
   "execution_count": 137,
   "id": "2e03ec5f-4d62-4a3e-bce5-c533f759398e",
   "metadata": {},
   "outputs": [],
   "source": [
    "df.to_csv(\"data.csv\", index=False)"
   ]
  },
  {
   "cell_type": "code",
   "execution_count": 138,
   "id": "e19b5c09-76fa-49b1-97f3-5b81147b8e39",
   "metadata": {},
   "outputs": [
    {
     "name": "stdout",
     "output_type": "stream",
     "text": [
      "8762\n"
     ]
    }
   ],
   "source": [
    "print(len(df))"
   ]
  },
  {
   "cell_type": "code",
   "execution_count": null,
   "id": "401f8ab2-f19d-4936-a002-36632876559c",
   "metadata": {},
   "outputs": [],
   "source": []
  }
 ],
 "metadata": {
  "kernelspec": {
   "display_name": "Python 3 (ipykernel)",
   "language": "python",
   "name": "python3"
  },
  "language_info": {
   "codemirror_mode": {
    "name": "ipython",
    "version": 3
   },
   "file_extension": ".py",
   "mimetype": "text/x-python",
   "name": "python",
   "nbconvert_exporter": "python",
   "pygments_lexer": "ipython3",
   "version": "3.10.10"
  }
 },
 "nbformat": 4,
 "nbformat_minor": 5
}
