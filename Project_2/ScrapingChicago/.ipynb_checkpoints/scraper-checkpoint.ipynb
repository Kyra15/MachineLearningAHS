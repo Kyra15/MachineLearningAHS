{
 "cells": [
  {
   "cell_type": "code",
   "execution_count": 60,
   "id": "4b6b92ea-0ce3-4b07-9758-d3cb1addc087",
   "metadata": {},
   "outputs": [
    {
     "name": "stdout",
     "output_type": "stream",
     "text": [
      "Defaulting to user installation because normal site-packages is not writeable\n",
      "Requirement already satisfied: homeharvest in /home/jupyter-251201/.local/lib/python3.10/site-packages (0.6.2)\n",
      "Requirement already satisfied: pandas<3.0.0,>=2.3.1 in /home/jupyter-251201/.local/lib/python3.10/site-packages (from homeharvest) (2.3.2)\n",
      "Requirement already satisfied: pydantic<3.0.0,>=2.11.7 in /home/jupyter-251201/.local/lib/python3.10/site-packages (from homeharvest) (2.11.7)\n",
      "Requirement already satisfied: requests<3.0.0,>=2.32.4 in /home/jupyter-251201/.local/lib/python3.10/site-packages (from homeharvest) (2.32.5)\n",
      "Requirement already satisfied: tenacity<10.0.0,>=9.1.2 in /home/jupyter-251201/.local/lib/python3.10/site-packages (from homeharvest) (9.1.2)\n",
      "Requirement already satisfied: numpy>=1.22.4 in /opt/tljh/user/lib/python3.10/site-packages (from pandas<3.0.0,>=2.3.1->homeharvest) (1.26.4)\n",
      "Requirement already satisfied: python-dateutil>=2.8.2 in /opt/tljh/user/lib/python3.10/site-packages (from pandas<3.0.0,>=2.3.1->homeharvest) (2.9.0.post0)\n",
      "Requirement already satisfied: pytz>=2020.1 in /opt/tljh/user/lib/python3.10/site-packages (from pandas<3.0.0,>=2.3.1->homeharvest) (2024.1)\n",
      "Requirement already satisfied: tzdata>=2022.7 in /opt/tljh/user/lib/python3.10/site-packages (from pandas<3.0.0,>=2.3.1->homeharvest) (2024.1)\n",
      "Requirement already satisfied: annotated-types>=0.6.0 in /opt/tljh/user/lib/python3.10/site-packages (from pydantic<3.0.0,>=2.11.7->homeharvest) (0.7.0)\n",
      "Requirement already satisfied: pydantic-core==2.33.2 in /home/jupyter-251201/.local/lib/python3.10/site-packages (from pydantic<3.0.0,>=2.11.7->homeharvest) (2.33.2)\n",
      "Requirement already satisfied: typing-extensions>=4.12.2 in /home/jupyter-251201/.local/lib/python3.10/site-packages (from pydantic<3.0.0,>=2.11.7->homeharvest) (4.14.1)\n",
      "Requirement already satisfied: typing-inspection>=0.4.0 in /opt/tljh/user/lib/python3.10/site-packages (from pydantic<3.0.0,>=2.11.7->homeharvest) (0.4.0)\n",
      "Requirement already satisfied: charset_normalizer<4,>=2 in /opt/tljh/user/lib/python3.10/site-packages (from requests<3.0.0,>=2.32.4->homeharvest) (3.1.0)\n",
      "Requirement already satisfied: idna<4,>=2.5 in /opt/tljh/user/lib/python3.10/site-packages (from requests<3.0.0,>=2.32.4->homeharvest) (3.4)\n",
      "Requirement already satisfied: urllib3<3,>=1.21.1 in /home/jupyter-251201/.local/lib/python3.10/site-packages (from requests<3.0.0,>=2.32.4->homeharvest) (2.5.0)\n",
      "Requirement already satisfied: certifi>=2017.4.17 in /home/jupyter-251201/.local/lib/python3.10/site-packages (from requests<3.0.0,>=2.32.4->homeharvest) (2025.8.3)\n",
      "Requirement already satisfied: six>=1.5 in /opt/tljh/user/lib/python3.10/site-packages (from python-dateutil>=2.8.2->pandas<3.0.0,>=2.3.1->homeharvest) (1.16.0)\n",
      "\n",
      "\u001b[1m[\u001b[0m\u001b[34;49mnotice\u001b[0m\u001b[1;39;49m]\u001b[0m\u001b[39;49m A new release of pip is available: \u001b[0m\u001b[31;49m25.1.1\u001b[0m\u001b[39;49m -> \u001b[0m\u001b[32;49m25.2\u001b[0m\n",
      "\u001b[1m[\u001b[0m\u001b[34;49mnotice\u001b[0m\u001b[1;39;49m]\u001b[0m\u001b[39;49m To update, run: \u001b[0m\u001b[32;49mpip install --upgrade pip\u001b[0m\n"
     ]
    }
   ],
   "source": [
    "!pip install -U homeharvest"
   ]
  },
  {
   "cell_type": "code",
   "execution_count": 67,
   "id": "7a0f2021-7333-44a7-9330-f2edfd09d5ab",
   "metadata": {},
   "outputs": [],
   "source": [
    "from homeharvest import scrape_property\n",
    "from datetime import datetime"
   ]
  },
  {
   "cell_type": "code",
   "execution_count": 68,
   "id": "81de19fb-9a28-44af-9dda-d914026ec320",
   "metadata": {},
   "outputs": [
    {
     "name": "stdout",
     "output_type": "stream",
     "text": [
      "Number of sold properties: 10000\n",
      "                                        property_url property_id  listing_id  \\\n",
      "0  https://www.realtor.com/realestateandhomes-det...  8659750276  2985034940   \n",
      "1  https://www.realtor.com/realestateandhomes-det...  8475236569  2984592637   \n",
      "2  https://www.realtor.com/realestateandhomes-det...  8045689445  2985454928   \n",
      "3  https://www.realtor.com/realestateandhomes-det...  7434920519  2981893389   \n",
      "4  https://www.realtor.com/realestateandhomes-det...  8770486680  2984846426   \n",
      "\n",
      "                                           permalink   mls    mls_id status  \\\n",
      "0  125-E-13th-St-Unit-1013_Chicago_IL_60605_M8659...  CHIL  12437089   SOLD   \n",
      "1  1225-W-Greenleaf-Ave-Apt-3E_Chicago_IL_60626_M...  CHIL  12428243   SOLD   \n",
      "2    3619-N-Panama-Ave_Chicago_IL_60634_M80456-89445  CHIL  12449285   SOLD   \n",
      "3     456-N-Paulina-St_Chicago_IL_60622_M74349-20519  CHIL  12366309   SOLD   \n",
      "4  1657-W-Hollywood-Ave-Apt-3_Chicago_IL_60660_M8...  CHIL  12389983   SOLD   \n",
      "\n",
      "  mls_status                                               text  \\\n",
      "0       Sold  Modern elegance meets unbeatable South Loop vi...   \n",
      "1       Sold  Welcome to this charming 2-bedroom, 1-bath con...   \n",
      "2       Sold  Attention Builders & Rehabbers! Prime Lot in H...   \n",
      "3       Sold  1880s 2 Unit Brick Row Home at the Gateway of ...   \n",
      "4       Sold  Beautifully maintained and full of charm, this...   \n",
      "\n",
      "           style  ... builder_id builder_name office_id office_mls_set  \\\n",
      "0         CONDOS  ...       <NA>         <NA>   4298235   O-CHIL-87738   \n",
      "1         CONDOS  ...       <NA>         <NA>     15047   O-CHIL-10646   \n",
      "2  SINGLE_FAMILY  ...       <NA>         <NA>   3772320    O-CHIL-6186   \n",
      "3   MULTI_FAMILY  ...       <NA>         <NA>    757030   O-CHIL-12604   \n",
      "4   MULTI_FAMILY  ...       <NA>         <NA>      <NA>   O-CHIL-15629   \n",
      "\n",
      "                              office_name  \\\n",
      "0              Keller Williams ONEChicago   \n",
      "1  Jameson Sotheby's International Realty   \n",
      "2              @properties Glenview North   \n",
      "3              NORTH CLYBOURN GROUP, INC.   \n",
      "4                Star Realty & Management   \n",
      "\n",
      "                          office_email  \\\n",
      "0                                 <NA>   \n",
      "1                  info@jamesonsir.com   \n",
      "2  realtordotcomleads@atproperties.com   \n",
      "3                 staci@ncgchicago.com   \n",
      "4                                 <NA>   \n",
      "\n",
      "                                       office_phones  \\\n",
      "0  [{'number': '3122162422', 'type': 'Office', 'p...   \n",
      "1  [{'number': '3127510300', 'type': 'Office', 'p...   \n",
      "2  [{'number': '8478320002', 'type': 'Office', 'p...   \n",
      "3  [{'number': '(773) 252-0600', 'type': 'Office'...   \n",
      "4  [{'number': '3123712564', 'type': 'Mobile', 'p...   \n",
      "\n",
      "                                      nearby_schools  \\\n",
      "0                             Chicago Public Schools   \n",
      "1                             Chicago Public Schools   \n",
      "2  Region 06 West Cook Intermediate Service Cente...   \n",
      "3                             Chicago Public Schools   \n",
      "4                             Chicago Public Schools   \n",
      "\n",
      "                                       primary_photo  \\\n",
      "0  https://ap.rdcpix.com/b45ef9279d9c710e13f10273...   \n",
      "1  https://ap.rdcpix.com/44ccb2985ea607af9159abdd...   \n",
      "2  https://ap.rdcpix.com/1b75e0d7f19ad238d7f8ec93...   \n",
      "3  https://ap.rdcpix.com/8eeacc40573aa3c58c8104fd...   \n",
      "4  https://ap.rdcpix.com/220ce69a2ae193c67a565992...   \n",
      "\n",
      "                                          alt_photos  \n",
      "0  https://ap.rdcpix.com/b45ef9279d9c710e13f10273...  \n",
      "1  https://ap.rdcpix.com/44ccb2985ea607af9159abdd...  \n",
      "2  https://ap.rdcpix.com/1b75e0d7f19ad238d7f8ec93...  \n",
      "3  https://ap.rdcpix.com/8eeacc40573aa3c58c8104fd...  \n",
      "4  https://ap.rdcpix.com/220ce69a2ae193c67a565992...  \n",
      "\n",
      "[5 rows x 64 columns]\n"
     ]
    }
   ],
   "source": [
    "current_timestamp = datetime.now().strftime(\"%Y%m%d_%H%M%S\")\n",
    "filename = f\"HomeHarvest_{current_timestamp}.csv\"\n",
    "\n",
    "sold_properties = scrape_property(\n",
    "  location=\"Chicago, IL\",\n",
    "  listing_type=\"sold\",\n",
    ")\n",
    "print(f\"Number of sold properties: {len(sold_properties)}\")\n",
    "print(sold_properties.head())"
   ]
  },
  {
   "cell_type": "code",
   "execution_count": 69,
   "id": "814b95cf-75b8-4532-b0e1-6e6f2c6e4778",
   "metadata": {},
   "outputs": [],
   "source": [
    "sold_properties.to_csv(filename, index=False)"
   ]
  },
  {
   "cell_type": "code",
   "execution_count": 82,
   "id": "540af4ef-9747-447d-a2f3-28b0a61d725d",
   "metadata": {},
   "outputs": [],
   "source": [
    "sold_df = sold_properties[[\"property_id\", \"formatted_address\", \"zip_code\", \"style\", \"beds\", \n",
    "                           \"full_baths\", \"half_baths\", \"sqft\", \"year_built\", \n",
    "                           \"list_price\", \"sold_price\"]]\n",
    "sold_df = sold_df.dropna()"
   ]
  },
  {
   "cell_type": "code",
   "execution_count": 85,
   "id": "2a200a22-eaba-4c61-9183-6f93306ac26b",
   "metadata": {},
   "outputs": [],
   "source": [
    "sold_df[\"age\"] = datetime.now().year - sold_df[\"year_built\"]\n",
    "sold_df.drop(columns=\"year_built\", inplace=True)"
   ]
  },
  {
   "cell_type": "code",
   "execution_count": 86,
   "id": "2e03ec5f-4d62-4a3e-bce5-c533f759398e",
   "metadata": {},
   "outputs": [],
   "source": [
    "sold_df.to_csv(\"data.csv\", index=False)"
   ]
  },
  {
   "cell_type": "code",
   "execution_count": null,
   "id": "e19b5c09-76fa-49b1-97f3-5b81147b8e39",
   "metadata": {},
   "outputs": [],
   "source": []
  }
 ],
 "metadata": {
  "kernelspec": {
   "display_name": "Python 3 (ipykernel)",
   "language": "python",
   "name": "python3"
  },
  "language_info": {
   "codemirror_mode": {
    "name": "ipython",
    "version": 3
   },
   "file_extension": ".py",
   "mimetype": "text/x-python",
   "name": "python",
   "nbconvert_exporter": "python",
   "pygments_lexer": "ipython3",
   "version": "3.10.10"
  }
 },
 "nbformat": 4,
 "nbformat_minor": 5
}
