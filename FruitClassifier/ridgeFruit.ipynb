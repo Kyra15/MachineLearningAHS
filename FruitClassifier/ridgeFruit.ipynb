{
 "cells": [
  {
   "cell_type": "code",
   "execution_count": null,
   "id": "7932e182-26ab-4d3c-a448-4cd1172d5a3d",
   "metadata": {},
   "outputs": [],
   "source": [
    "import pandas as pd\n",
    "import matplotlib.pyplot as plt\n",
    "from sklearn.model_selection import train_test_split\n",
    "from sklearn.metrics import accuracy_score\n",
    "from sklearn.preprocessing import MinMaxScaler\n",
    "from sklearn.linear_model import RidgeClassifier"
   ]
  },
  {
   "cell_type": "code",
   "execution_count": null,
   "id": "7b166720-65ea-4f21-8f53-29460c93f935",
   "metadata": {},
   "outputs": [],
   "source": [
    "# load data\n",
    "df = pd.read_csv(\"manual classification network.csv\")\n",
    "\n",
    "# reformat the data\n",
    "\n",
    "# first define a new df (there's some funky stuff with the csv)\n",
    "new_df = pd.DataFrame()\n",
    "new_df[\"label\"] = df[\"Label\"]\n",
    "new_df.dropna(inplace=True)\n",
    "\n",
    "# replace the headers with the 1st column (to account for the 'umbrella' headers like color and shape)\n",
    "new_colnames = df.iloc[0]\n",
    "df = df[1:]\n",
    "df.columns = new_colnames\n",
    "\n",
    "# replace all nans with 0s\n",
    "df.fillna(0, inplace=True)\n",
    "\n",
    "# put the dfs together into one big df\n",
    "new_df = pd.concat([new_df, df.drop(columns=[df.columns[0]])], axis=1)\n",
    "\n",
    "# rename the columns for consistency\n",
    "new_df.columns = [x.lower() for x in new_df.columns]\n",
    "\n",
    "# standardize the shape numbers using min-max scaling\n",
    "scaler = MinMaxScaler()\n",
    "new_df[[\"length\", \"width\", \"height\"]] = scaler.fit_transform(new_df[[\"length\", \"width\", \"height\"]])\n",
    "\n",
    "# drop unnecessary columns\n",
    "new_df.drop([\"dull\", \"rough\"], axis=1, inplace=True)\n",
    "new_df = new_df.rename(columns={\"shiny\": \"is_shiny\", \"smooth\": \"is_smooth\"})\n",
    "\n",
    "print(new_df)"
   ]
  },
  {
   "cell_type": "code",
   "execution_count": null,
   "id": "e69e26f3-3baf-4867-a808-16487529ae3d",
   "metadata": {},
   "outputs": [],
   "source": [
    "# separate the data into labels and features\n",
    "y = new_df[\"label\"]\n",
    "x = new_df.drop([\"label\"], axis=1)\n",
    "\n",
    "# split the data (30% test 70% train)\n",
    "X_train, X_test, y_train, y_test = train_test_split(x, \n",
    "                                                    y, \n",
    "                                                    test_size=0.3, \n",
    "                                                    random_state=67)\n",
    "\n",
    "alpha = 1.0\n",
    "max_iter = 1000\n",
    "solver = 'auto'\n",
    "tol = 1e-3\n",
    "\n",
    "# should probably use grid search to fine tune hyperparams\n",
    "ridge_classifier = RidgeClassifier(\n",
    "    alpha=alpha, max_iter=max_iter, solver=solver, tol=tol)\n",
    "\n",
    "ridge_classifier.fit(X_train, y_train)"
   ]
  },
  {
   "cell_type": "code",
   "execution_count": null,
   "id": "e5a698d0-eabd-4864-9ac2-2fc2448fc38a",
   "metadata": {},
   "outputs": [],
   "source": [
    "# make a prediction\n",
    "y_pred = ridge_classifier.predict(X_test)\n",
    "\n",
    "accuracy = accuracy_score(y_test, y_pred)\n",
    "\n",
    "print(accuracy)"
   ]
  }
 ],
 "metadata": {
  "kernelspec": {
   "display_name": "Python 3 (ipykernel)",
   "language": "python",
   "name": "python3"
  },
  "language_info": {
   "codemirror_mode": {
    "name": "ipython",
    "version": 3
   },
   "file_extension": ".py",
   "mimetype": "text/x-python",
   "name": "python",
   "nbconvert_exporter": "python",
   "pygments_lexer": "ipython3",
   "version": "3.10.10"
  }
 },
 "nbformat": 4,
 "nbformat_minor": 5
}
