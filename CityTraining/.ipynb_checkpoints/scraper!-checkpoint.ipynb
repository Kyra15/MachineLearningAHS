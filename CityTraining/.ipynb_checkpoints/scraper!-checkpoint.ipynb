{
 "cells": [
  {
   "cell_type": "code",
   "execution_count": 1,
   "id": "2d6eef95-6d2c-4977-89b5-1d8c62cedb79",
   "metadata": {},
   "outputs": [],
   "source": [
    "from bs4 import BeautifulSoup\n",
    "import requests"
   ]
  },
  {
   "cell_type": "code",
   "execution_count": 8,
   "id": "8c2f4e13-c29b-4bce-bb7e-f4946889d589",
   "metadata": {},
   "outputs": [
    {
     "name": "stdout",
     "output_type": "stream",
     "text": [
      "Defaulting to user installation because normal site-packages is not writeable\n",
      "Requirement already satisfied: selenium in /home/jupyter-251201/.local/lib/python3.10/site-packages (4.35.0)\n",
      "Requirement already satisfied: urllib3<3.0,>=2.5.0 in /home/jupyter-251201/.local/lib/python3.10/site-packages (from urllib3[socks]<3.0,>=2.5.0->selenium) (2.5.0)\n",
      "Requirement already satisfied: trio~=0.30.0 in /home/jupyter-251201/.local/lib/python3.10/site-packages (from selenium) (0.30.0)\n",
      "Requirement already satisfied: trio-websocket~=0.12.2 in /home/jupyter-251201/.local/lib/python3.10/site-packages (from selenium) (0.12.2)\n",
      "Requirement already satisfied: certifi>=2025.6.15 in /home/jupyter-251201/.local/lib/python3.10/site-packages (from selenium) (2025.8.3)\n",
      "Requirement already satisfied: typing_extensions~=4.14.0 in /home/jupyter-251201/.local/lib/python3.10/site-packages (from selenium) (4.14.1)\n",
      "Requirement already satisfied: websocket-client~=1.8.0 in /opt/tljh/user/lib/python3.10/site-packages (from selenium) (1.8.0)\n",
      "Requirement already satisfied: attrs>=23.2.0 in /opt/tljh/user/lib/python3.10/site-packages (from trio~=0.30.0->selenium) (24.2.0)\n",
      "Requirement already satisfied: sortedcontainers in /home/jupyter-251201/.local/lib/python3.10/site-packages (from trio~=0.30.0->selenium) (2.4.0)\n",
      "Requirement already satisfied: idna in /opt/tljh/user/lib/python3.10/site-packages (from trio~=0.30.0->selenium) (3.4)\n",
      "Requirement already satisfied: outcome in /home/jupyter-251201/.local/lib/python3.10/site-packages (from trio~=0.30.0->selenium) (1.3.0.post0)\n",
      "Requirement already satisfied: sniffio>=1.3.0 in /opt/tljh/user/lib/python3.10/site-packages (from trio~=0.30.0->selenium) (1.3.1)\n",
      "Requirement already satisfied: exceptiongroup in /opt/tljh/user/lib/python3.10/site-packages (from trio~=0.30.0->selenium) (1.2.2)\n",
      "Requirement already satisfied: wsproto>=0.14 in /home/jupyter-251201/.local/lib/python3.10/site-packages (from trio-websocket~=0.12.2->selenium) (1.2.0)\n",
      "Requirement already satisfied: pysocks!=1.5.7,<2.0,>=1.5.6 in /opt/tljh/user/lib/python3.10/site-packages (from urllib3[socks]<3.0,>=2.5.0->selenium) (1.7.1)\n",
      "Requirement already satisfied: h11<1,>=0.9.0 in /opt/tljh/user/lib/python3.10/site-packages (from wsproto>=0.14->trio-websocket~=0.12.2->selenium) (0.14.0)\n",
      "\n",
      "\u001b[1m[\u001b[0m\u001b[34;49mnotice\u001b[0m\u001b[1;39;49m]\u001b[0m\u001b[39;49m A new release of pip is available: \u001b[0m\u001b[31;49m25.1.1\u001b[0m\u001b[39;49m -> \u001b[0m\u001b[32;49m25.2\u001b[0m\n",
      "\u001b[1m[\u001b[0m\u001b[34;49mnotice\u001b[0m\u001b[1;39;49m]\u001b[0m\u001b[39;49m To update, run: \u001b[0m\u001b[32;49mpip install --upgrade pip\u001b[0m\n",
      "Note: you may need to restart the kernel to use updated packages.\n"
     ]
    }
   ],
   "source": [
    "pip install selenium"
   ]
  },
  {
   "cell_type": "code",
   "execution_count": 12,
   "id": "df72d170-2c06-4fc9-983e-166285e8d103",
   "metadata": {},
   "outputs": [
    {
     "name": "stdout",
     "output_type": "stream",
     "text": [
      "200\n"
     ]
    }
   ],
   "source": [
    "import random\n",
    "\n",
    "headers = {\n",
    "    \"Accept\": \"text/html,application/xhtml+xml,application/xml;q=0.9,image/avif,image/webp,image/apng,*/*;q=0.8,application/signed-exchange;v=b3;q=0.7\",\n",
    "    \"Accept-Language\": \"en\",\n",
    "    \"Cache-Control\": \"no-cache\",\n",
    "    \"Pragma\": \"no-cache\",\n",
    "    \"Sec-Ch-Ua\": '\"Chromium\";v=\"130\", \"Google Chrome\";v=\"130\", \"Not?A_Brand\";v=\"99\"',\n",
    "    \"Sec-Ch-Ua-Mobile\": \"?0\",\n",
    "    \"Sec-Ch-Ua-Platform\": '\"Windows\"',\n",
    "    \"Sec-Fetch-Dest\": \"document\",\n",
    "    \"Sec-Fetch-Mode\": \"navigate\",\n",
    "    \"Sec-Fetch-Site\": \"none\",\n",
    "    \"Sec-Fetch-User\": \"?1\",\n",
    "    \"Upgrade-Insecure-Requests\": \"1\",\n",
    "    \"User-Agent\": \"Mozilla/5.0 (Windows NT 10.0; Win64; x64) AppleWebKit/537.36 (KHTML, like Gecko) Chrome/130.0.0.0 Safari/537.36\",\n",
    "}\n",
    "\n",
    "link = \"https://www.zillow.com/homes/for_sale/Chicago,-Chicago,-IL_rb/\"\n",
    "response = requests.get(\n",
    "    url=link,\n",
    "    headers=headers,\n",
    "    # proxies=proxies\n",
    ")\n",
    "\n",
    "# response.raise_for_status()\n",
    "print(response.status_code)"
   ]
  },
  {
   "cell_type": "code",
   "execution_count": 14,
   "id": "6662eb90-361a-44fc-a9f6-5de1e18a30e2",
   "metadata": {},
   "outputs": [],
   "source": [
    "soup = BeautifulSoup(response.content, 'html.parser')\n",
    "print(soup.prettify())"
   ]
  },
  {
   "cell_type": "code",
   "execution_count": 37,
   "id": "2dc6e049-fe9c-44a6-9ed0-77871426fee0",
   "metadata": {},
   "outputs": [
    {
     "name": "stdout",
     "output_type": "stream",
     "text": [
      "43\n"
     ]
    }
   ],
   "source": [
    "'''\n",
    "zillow formatting is a little goofy\n",
    "each house is listed as an article, then the div -1 in li's within that hold info like bedroom, bathroom, and sqft (in <b>)\n",
    "\n",
    "can also grab postal code by splitting and -1 splicing\n",
    "price is in data-test=\"property-card-price\"\n",
    "\n",
    "loop through articles\n",
    "\n",
    "ZILLOW LOADS DYNAMICALLY UGH\n",
    "so i have to scroll using selenium\n",
    "'''\n",
    "properties = soup.find_all(\"li\",{\"class\":\"ListItem-c11n-8-109-3__sc-13rwu5a-0\"})\n",
    "print(len(properties))"
   ]
  },
  {
   "cell_type": "code",
   "execution_count": 39,
   "id": "5b99f1e8-f11b-41d5-b2d5-90760bf37c16",
   "metadata": {},
   "outputs": [
    {
     "name": "stdout",
     "output_type": "stream",
     "text": [
      "[{'pricing': 359900.0, 'size': 807.0, 'address': '440 N Wabash Ave APT 4610, Chicago, IL 60611', 'bedrooms': 1.0, 'bathrooms': None}, {'pricing': 349999.0, 'size': 1350.0, 'address': '948 W 15th Pl UNIT 1B, Chicago, IL 60608', 'bedrooms': 2.0, 'bathrooms': None}, {'pricing': None, 'size': None, 'address': None, 'bedrooms': None, 'bathrooms': None}, {'pricing': 565000.0, 'size': None, 'address': '1516 N State Pkwy APT 5D, Chicago, IL 60610', 'bedrooms': 2.0, 'bathrooms': None}, {'pricing': 9450000.0, 'size': 8691.0, 'address': '1853 N Burling St, Chicago, IL 60614', 'bedrooms': 7.0, 'bathrooms': None}, {'pricing': 762000.0, 'size': 1733.0, 'address': '1872 N Clybourn Ave APT 603, Chicago, IL 60614', 'bedrooms': 2.0, 'bathrooms': None}, {'pricing': 845000.0, 'size': 2500.0, 'address': '3239 N Racine Ave #1, Chicago, IL 60657', 'bedrooms': 3.0, 'bathrooms': None}, {'pricing': 850000.0, 'size': 2642.0, 'address': '1920 W Armitage Ave, Chicago, IL 60622', 'bedrooms': 4.0, 'bathrooms': None}, {'pricing': 775000.0, 'size': 1867.0, 'address': '1410 W Wrightwood Ave APT O, Chicago, IL 60614', 'bedrooms': 3.0, 'bathrooms': None}, {'pricing': 18500000.0, 'size': 13400.0, 'address': '915 N Dearborn St, Chicago, IL 60610', 'bedrooms': 6.0, 'bathrooms': None}, {'pricing': None, 'size': None, 'address': None, 'bedrooms': None, 'bathrooms': None}, {'pricing': None, 'size': None, 'address': None, 'bedrooms': None, 'bathrooms': None}, {'pricing': None, 'size': None, 'address': None, 'bedrooms': None, 'bathrooms': None}, {'pricing': None, 'size': None, 'address': None, 'bedrooms': None, 'bathrooms': None}, {'pricing': None, 'size': None, 'address': None, 'bedrooms': None, 'bathrooms': None}, {'pricing': None, 'size': None, 'address': None, 'bedrooms': None, 'bathrooms': None}, {'pricing': None, 'size': None, 'address': None, 'bedrooms': None, 'bathrooms': None}, {'pricing': None, 'size': None, 'address': None, 'bedrooms': None, 'bathrooms': None}, {'pricing': None, 'size': None, 'address': None, 'bedrooms': None, 'bathrooms': None}, {'pricing': None, 'size': None, 'address': None, 'bedrooms': None, 'bathrooms': None}, {'pricing': None, 'size': None, 'address': None, 'bedrooms': None, 'bathrooms': None}, {'pricing': None, 'size': None, 'address': None, 'bedrooms': None, 'bathrooms': None}, {'pricing': None, 'size': None, 'address': None, 'bedrooms': None, 'bathrooms': None}, {'pricing': None, 'size': None, 'address': None, 'bedrooms': None, 'bathrooms': None}, {'pricing': None, 'size': None, 'address': None, 'bedrooms': None, 'bathrooms': None}, {'pricing': None, 'size': None, 'address': None, 'bedrooms': None, 'bathrooms': None}, {'pricing': None, 'size': None, 'address': None, 'bedrooms': None, 'bathrooms': None}, {'pricing': None, 'size': None, 'address': None, 'bedrooms': None, 'bathrooms': None}, {'pricing': None, 'size': None, 'address': None, 'bedrooms': None, 'bathrooms': None}, {'pricing': None, 'size': None, 'address': None, 'bedrooms': None, 'bathrooms': None}, {'pricing': None, 'size': None, 'address': None, 'bedrooms': None, 'bathrooms': None}, {'pricing': None, 'size': None, 'address': None, 'bedrooms': None, 'bathrooms': None}, {'pricing': None, 'size': None, 'address': None, 'bedrooms': None, 'bathrooms': None}, {'pricing': None, 'size': None, 'address': None, 'bedrooms': None, 'bathrooms': None}, {'pricing': None, 'size': None, 'address': None, 'bedrooms': None, 'bathrooms': None}, {'pricing': None, 'size': None, 'address': None, 'bedrooms': None, 'bathrooms': None}, {'pricing': None, 'size': None, 'address': None, 'bedrooms': None, 'bathrooms': None}, {'pricing': None, 'size': None, 'address': None, 'bedrooms': None, 'bathrooms': None}, {'pricing': None, 'size': None, 'address': None, 'bedrooms': None, 'bathrooms': None}, {'pricing': None, 'size': None, 'address': None, 'bedrooms': None, 'bathrooms': None}, {'pricing': None, 'size': None, 'address': None, 'bedrooms': None, 'bathrooms': None}, {'pricing': None, 'size': None, 'address': None, 'bedrooms': None, 'bathrooms': None}, {'pricing': None, 'size': None, 'address': None, 'bedrooms': None, 'bathrooms': None}]\n"
     ]
    }
   ],
   "source": [
    "l = []\n",
    "obj={}\n",
    "\n",
    "for x in range(0,len(properties)):\n",
    "    try:\n",
    "        obj[\"pricing\"]=properties[x].find(\"span\",{'data-test':'property-card-price'}).text\n",
    "        obj[\"pricing\"] = float(obj[\"pricing\"].replace(\"$\", \"\").replace(\",\", \"\"))\n",
    "    except:\n",
    "        obj[\"pricing\"]=None\n",
    "\n",
    "    try:\n",
    "        obj[\"size\"]=properties[x].find(\"ul\",{\"class\":\"StyledPropertyCardHomeDetailsList-c11n-8-109-3__sc-1j0som5-0\"}).find_all('li')[-1].text\n",
    "        obj[\"size\"] = float(obj[\"size\"].split(\" \")[0].replace(\",\", \"\"))\n",
    "    except:\n",
    "        obj[\"size\"]=None\n",
    "    try:\n",
    "        obj[\"address\"]=properties[x].find(\"address\").text\n",
    "    except:\n",
    "        obj[\"address\"]=None\n",
    "    try:\n",
    "        obj[\"bedrooms\"]=properties[x].find(\"ul\",{\"class\":\"StyledPropertyCardHomeDetailsList-c11n-8-109-3__sc-1j0som5-0\"}).find_all('li')[0].text\n",
    "        obj[\"bedrooms\"] = float(obj[\"bedrooms\"].split(\" \")[0].replace(\",\", \"\"))\n",
    "    except:\n",
    "        obj[\"bedrooms\"]=None\n",
    "    try:\n",
    "        obj[\"bathrooms\"]=properties[x].find(\"ul\",{\"class\":\"StyledPropertyCardHomeDetailsList-c11n-8-109-3__sc-1j0som5-0\"}).find_all('li')[1].text\n",
    "        obj[\"bathrooms\"] = float(obj[\"bedrooms\"].split(\" \")[0].replace(\",\", \"\"))\n",
    "    except:\n",
    "        obj[\"bathrooms\"]=None\n",
    "    l.append(obj)\n",
    "    obj={}\n",
    "\n",
    "print(l)"
   ]
  },
  {
   "cell_type": "code",
   "execution_count": 40,
   "id": "6c1c577d-278e-432d-b1c8-4e718b045646",
   "metadata": {},
   "outputs": [],
   "source": [
    "# convert from dict to df and save!\n",
    "\n",
    "import pandas as pd\n",
    "\n",
    "df = pd.DataFrame(l).dropna()"
   ]
  },
  {
   "cell_type": "code",
   "execution_count": 41,
   "id": "aabbfefc-711b-4067-b30d-2d82a8c06785",
   "metadata": {},
   "outputs": [
    {
     "name": "stdout",
     "output_type": "stream",
     "text": [
      "Empty DataFrame\n",
      "Columns: [pricing, size, address, bedrooms, bathrooms]\n",
      "Index: []\n"
     ]
    }
   ],
   "source": [
    "print(df)"
   ]
  },
  {
   "cell_type": "code",
   "execution_count": null,
   "id": "41a7ee91-6c28-45c3-b205-19c6022afc08",
   "metadata": {},
   "outputs": [],
   "source": []
  }
 ],
 "metadata": {
  "kernelspec": {
   "display_name": "Python 3 (ipykernel)",
   "language": "python",
   "name": "python3"
  },
  "language_info": {
   "codemirror_mode": {
    "name": "ipython",
    "version": 3
   },
   "file_extension": ".py",
   "mimetype": "text/x-python",
   "name": "python",
   "nbconvert_exporter": "python",
   "pygments_lexer": "ipython3",
   "version": "3.10.10"
  }
 },
 "nbformat": 4,
 "nbformat_minor": 5
}
